{
 "cells": [
  {
   "cell_type": "markdown",
   "id": "d4fb112f",
   "metadata": {},
   "source": [
    "# Business Analytics Assignment\n",
    "## Kaggle WiDS dataset\n",
    "#### Submitted by \n",
    "#### G Likith Chandra 21020845001\n",
    "#### & Sachin S 21020845014"
   ]
  },
  {
   "cell_type": "markdown",
   "id": "5a1a90df",
   "metadata": {},
   "source": [
    "# Objective\n",
    "To predict building energy usage, using given building information and other related georaphical and climatic factors. The dataframe inculdes information about the monthly min, max and avg temperatures, year of construction of building, the type of facility, snow levels, precipitaion, wind directions, days with fog, heating days and cooling days. \n",
    "Given the information, we will be performing an EDA to undertand the training data and further clean the dataset for missing values. Next, we will be performing Linear Regression to identify the significant variables which will predict the Site Energy Utilisation Index in the test data set."
   ]
  },
  {
   "cell_type": "markdown",
   "id": "c94b2032",
   "metadata": {},
   "source": [
    "---"
   ]
  },
  {
   "cell_type": "markdown",
   "id": "7aee2a5d",
   "metadata": {},
   "source": [
    "### Running neccessary libraries"
   ]
  },
  {
   "cell_type": "code",
   "execution_count": 1,
   "id": "8f49c9ca",
   "metadata": {
    "scrolled": true
   },
   "outputs": [
    {
     "name": "stderr",
     "output_type": "stream",
     "text": [
      "Warning message:\n",
      "\"package 'dplyr' was built under R version 3.6.3\"\n",
      "Attaching package: 'dplyr'\n",
      "\n",
      "The following objects are masked from 'package:stats':\n",
      "\n",
      "    filter, lag\n",
      "\n",
      "The following objects are masked from 'package:base':\n",
      "\n",
      "    intersect, setdiff, setequal, union\n",
      "\n",
      "Warning message:\n",
      "\"package 'ggcorrplot' was built under R version 3.6.3\"Loading required package: ggplot2\n",
      "Warning message:\n",
      "\"package 'DataExplorer' was built under R version 3.6.3\"Loading required package: carData\n",
      "\n",
      "Attaching package: 'car'\n",
      "\n",
      "The following object is masked from 'package:dplyr':\n",
      "\n",
      "    recode\n",
      "\n",
      "Loading required package: wrapr\n",
      "\n",
      "Attaching package: 'wrapr'\n",
      "\n",
      "The following object is masked from 'package:car':\n",
      "\n",
      "    bc\n",
      "\n",
      "The following object is masked from 'package:dplyr':\n",
      "\n",
      "    coalesce\n",
      "\n",
      "Warning message:\n",
      "\"package 'janitor' was built under R version 3.6.3\"\n",
      "Attaching package: 'janitor'\n",
      "\n",
      "The following objects are masked from 'package:stats':\n",
      "\n",
      "    chisq.test, fisher.test\n",
      "\n",
      "Warning message:\n",
      "\"package 'tidyr' was built under R version 3.6.3\"\n",
      "Attaching package: 'tidyr'\n",
      "\n",
      "The following objects are masked from 'package:wrapr':\n",
      "\n",
      "    pack, unpack\n",
      "\n"
     ]
    }
   ],
   "source": [
    "library(dplyr)\n",
    "library(ggcorrplot)\n",
    "library(DataExplorer)\n",
    "library(car)\n",
    "library(vtreat)\n",
    "library(janitor)\n",
    "library(tidyr)\n",
    "options(warn=0)"
   ]
  },
  {
   "cell_type": "markdown",
   "id": "ff48e434",
   "metadata": {},
   "source": [
    "### Importing the training dataset into the working environment."
   ]
  },
  {
   "cell_type": "code",
   "execution_count": 3,
   "id": "ef12fdfc",
   "metadata": {},
   "outputs": [],
   "source": [
    "df<- read.csv(\"train.csv\",stringsAsFactors = TRUE)"
   ]
  },
  {
   "cell_type": "markdown",
   "id": "d0c2f79e",
   "metadata": {},
   "source": [
    "### Analysing dataframe structure and summary statistics"
   ]
  },
  {
   "cell_type": "code",
   "execution_count": 4,
   "id": "61515a5c",
   "metadata": {
    "scrolled": true
   },
   "outputs": [
    {
     "name": "stdout",
     "output_type": "stream",
     "text": [
      "'data.frame':\t75757 obs. of  64 variables:\n",
      " $ Year_Factor              : int  1 1 1 1 1 1 1 1 1 1 ...\n",
      " $ State_Factor             : Factor w/ 7 levels \"State_1\",\"State_10\",..: 1 1 1 1 1 1 1 1 1 1 ...\n",
      " $ building_class           : Factor w/ 2 levels \"Commercial\",\"Residential\": 1 1 1 1 1 1 1 1 1 1 ...\n",
      " $ facility_type            : Factor w/ 60 levels \"2to4_Unit_Building\",..: 14 56 49 7 57 59 57 57 33 33 ...\n",
      " $ floor_area               : num  61242 274000 280025 55325 66000 ...\n",
      " $ year_built               : num  1942 1955 1951 1980 1985 ...\n",
      " $ energy_star_rating       : num  11 45 97 46 100 NA 56 99 98 83 ...\n",
      " $ ELEVATION                : num  2.4 1.8 1.8 1.8 2.4 2.4 2.4 2.4 2.4 2.4 ...\n",
      " $ january_min_temp         : int  36 36 36 36 36 36 36 36 36 36 ...\n",
      " $ january_avg_temp         : num  50.5 50.5 50.5 50.5 50.5 50.5 50.5 50.5 50.5 50.5 ...\n",
      " $ january_max_temp         : int  68 68 68 68 68 68 68 68 68 68 ...\n",
      " $ february_min_temp        : int  35 35 35 35 35 35 35 35 35 35 ...\n",
      " $ february_avg_temp        : num  50.6 50.6 50.6 50.6 50.6 ...\n",
      " $ february_max_temp        : int  73 73 73 73 73 73 73 73 73 73 ...\n",
      " $ march_min_temp           : int  40 40 40 40 40 40 40 40 40 40 ...\n",
      " $ march_avg_temp           : num  53.7 53.7 53.7 53.7 53.7 ...\n",
      " $ march_max_temp           : int  80 80 80 80 80 80 80 80 80 80 ...\n",
      " $ april_min_temp           : int  41 41 41 41 41 41 41 41 41 41 ...\n",
      " $ april_avg_temp           : num  55.5 55.5 55.5 55.5 55.5 55.5 55.5 55.5 55.5 55.5 ...\n",
      " $ april_max_temp           : int  78 78 78 78 78 78 78 78 78 78 ...\n",
      " $ may_min_temp             : int  46 46 46 46 46 46 46 46 46 46 ...\n",
      " $ may_avg_temp             : num  56.9 56.9 56.9 56.9 56.9 ...\n",
      " $ may_max_temp             : int  84 84 84 84 84 84 84 84 84 84 ...\n",
      " $ june_min_temp            : int  50 50 50 50 50 50 50 50 50 50 ...\n",
      " $ june_avg_temp            : num  60.5 60.5 60.5 60.5 60.5 60.5 60.5 60.5 60.5 60.5 ...\n",
      " $ june_max_temp            : int  90 90 90 90 90 90 90 90 90 90 ...\n",
      " $ july_min_temp            : int  52 52 52 52 52 52 52 52 52 52 ...\n",
      " $ july_avg_temp            : num  62.7 62.7 62.7 62.7 62.7 ...\n",
      " $ july_max_temp            : int  84 84 84 84 84 84 84 84 84 84 ...\n",
      " $ august_min_temp          : int  52 52 52 52 52 52 52 52 52 52 ...\n",
      " $ august_avg_temp          : num  62.2 62.2 62.2 62.2 62.2 ...\n",
      " $ august_max_temp          : int  85 85 85 85 85 85 85 85 85 85 ...\n",
      " $ september_min_temp       : int  52 52 52 52 52 52 52 52 52 52 ...\n",
      " $ september_avg_temp       : num  64.7 64.7 64.7 64.7 64.7 ...\n",
      " $ september_max_temp       : int  90 90 90 90 90 90 90 90 90 90 ...\n",
      " $ october_min_temp         : int  47 47 47 47 47 47 47 47 47 47 ...\n",
      " $ october_avg_temp         : num  63 63 63 63 63 ...\n",
      " $ october_max_temp         : int  83 83 83 83 83 83 83 83 83 83 ...\n",
      " $ november_min_temp        : int  43 43 43 43 43 43 43 43 43 43 ...\n",
      " $ november_avg_temp        : num  53.8 53.8 53.8 53.8 53.8 53.8 53.8 53.8 53.8 53.8 ...\n",
      " $ november_max_temp        : int  72 72 72 72 72 72 72 72 72 72 ...\n",
      " $ december_min_temp        : int  36 36 36 36 36 36 36 36 36 36 ...\n",
      " $ december_avg_temp        : num  49.3 49.3 49.3 49.3 49.3 ...\n",
      " $ december_max_temp        : int  71 71 71 71 71 71 71 71 71 71 ...\n",
      " $ cooling_degree_days      : int  115 115 115 115 115 115 115 115 115 115 ...\n",
      " $ heating_degree_days      : int  2960 2960 2960 2960 2960 2960 2960 2960 2960 2960 ...\n",
      " $ precipitation_inches     : num  16.6 16.6 16.6 16.6 16.6 ...\n",
      " $ snowfall_inches          : num  0 0 0 0 0 0 0 0 0 0 ...\n",
      " $ snowdepth_inches         : int  0 0 0 0 0 0 0 0 0 0 ...\n",
      " $ avg_temp                 : num  57 57 57 57 57 ...\n",
      " $ days_below_30F           : int  0 0 0 0 0 0 0 0 0 0 ...\n",
      " $ days_below_20F           : int  0 0 0 0 0 0 0 0 0 0 ...\n",
      " $ days_below_10F           : int  0 0 0 0 0 0 0 0 0 0 ...\n",
      " $ days_below_0F            : int  0 0 0 0 0 0 0 0 0 0 ...\n",
      " $ days_above_80F           : int  14 14 14 14 14 14 14 14 14 14 ...\n",
      " $ days_above_90F           : int  0 0 0 0 0 0 0 0 0 0 ...\n",
      " $ days_above_100F          : int  0 0 0 0 0 0 0 0 0 0 ...\n",
      " $ days_above_110F          : int  0 0 0 0 0 0 0 0 0 0 ...\n",
      " $ direction_max_wind_speed : num  1 1 1 1 1 1 1 1 1 1 ...\n",
      " $ direction_peak_wind_speed: num  1 NA NA NA 1 1 1 1 1 1 ...\n",
      " $ max_wind_speed           : num  1 1 1 1 1 1 1 1 1 1 ...\n",
      " $ days_with_fog            : num  NA 12 12 12 NA NA NA NA NA NA ...\n",
      " $ site_eui                 : num  248.7 26.5 24.7 48.4 3.9 ...\n",
      " $ id                       : int  0 1 2 3 4 5 6 7 8 9 ...\n"
     ]
    }
   ],
   "source": [
    "str(df)"
   ]
  },
  {
   "cell_type": "code",
   "execution_count": 5,
   "id": "17403692",
   "metadata": {},
   "outputs": [
    {
     "data": {
      "text/plain": [
       "  Year_Factor      State_Factor       building_class \n",
       " Min.   :1.000   State_1 : 5618   Commercial :32199  \n",
       " 1st Qu.:3.000   State_10:   15   Residential:43558  \n",
       " Median :5.000   State_11: 6412                      \n",
       " Mean   :4.368   State_2 : 4871                      \n",
       " 3rd Qu.:6.000   State_4 : 4300                      \n",
       " Max.   :6.000   State_6 :50840                      \n",
       "                 State_8 : 3701                      \n",
       "                   facility_type     floor_area        year_built  \n",
       " Multifamily_Uncategorized:39455   Min.   :    943   Min.   :   0  \n",
       " Office_Uncategorized     :12512   1st Qu.:  62379   1st Qu.:1927  \n",
       " Education_Other_classroom: 3860   Median :  91367   Median :1951  \n",
       " Lodging_Hotel            : 2098   Mean   : 165984   Mean   :1952  \n",
       " 2to4_Unit_Building       : 1893   3rd Qu.: 166000   3rd Qu.:1977  \n",
       " Commercial_Other         : 1744   Max.   :6385382   Max.   :2015  \n",
       " (Other)                  :14195                     NA's   :1837  \n",
       " energy_star_rating   ELEVATION       january_min_temp january_avg_temp\n",
       " Min.   :  0.00     Min.   :  -6.40   Min.   :-19.00   Min.   :10.81   \n",
       " 1st Qu.: 40.00     1st Qu.:  11.90   1st Qu.:  6.00   1st Qu.:29.83   \n",
       " Median : 67.00     Median :  25.00   Median : 11.00   Median :34.45   \n",
       " Mean   : 61.05     Mean   :  39.51   Mean   : 11.43   Mean   :34.31   \n",
       " 3rd Qu.: 85.00     3rd Qu.:  42.70   3rd Qu.: 13.00   3rd Qu.:37.32   \n",
       " Max.   :100.00     Max.   :1924.50   Max.   : 49.00   Max.   :64.76   \n",
       " NA's   :26709                                                         \n",
       " january_max_temp february_min_temp february_avg_temp february_max_temp\n",
       " Min.   :42.00    Min.   :-13.00    Min.   :13.25     Min.   :38.00    \n",
       " 1st Qu.:56.00    1st Qu.:  2.00    1st Qu.:31.62     1st Qu.:55.00    \n",
       " Median :59.00    Median :  9.00    Median :34.11     Median :61.00    \n",
       " Mean   :59.05    Mean   : 11.72    Mean   :35.53     Mean   :58.49    \n",
       " 3rd Qu.:62.00    3rd Qu.: 20.00    3rd Qu.:40.88     3rd Qu.:62.00    \n",
       " Max.   :91.00    Max.   : 48.00    Max.   :65.11     Max.   :89.00    \n",
       "                                                                       \n",
       " march_min_temp  march_avg_temp  march_max_temp april_min_temp  april_avg_temp \n",
       " Min.   :-9.00   Min.   :25.85   Min.   :53.0   Min.   :15.00   Min.   :40.28  \n",
       " 1st Qu.:13.00   1st Qu.:38.10   1st Qu.:62.0   1st Qu.:26.00   1st Qu.:52.33  \n",
       " Median :25.00   Median :44.52   Median :71.0   Median :32.00   Median :53.33  \n",
       " Mean   :21.61   Mean   :44.47   Mean   :70.9   Mean   :32.04   Mean   :53.78  \n",
       " 3rd Qu.:27.00   3rd Qu.:49.35   3rd Qu.:78.0   3rd Qu.:37.00   3rd Qu.:54.77  \n",
       " Max.   :52.00   Max.   :69.76   Max.   :95.0   Max.   :52.00   Max.   :74.50  \n",
       "                                                                               \n",
       " april_max_temp    may_min_temp    may_avg_temp    may_max_temp   \n",
       " Min.   : 62.00   Min.   :23.00   Min.   :46.95   Min.   : 64.00  \n",
       " 1st Qu.: 80.00   1st Qu.:42.00   1st Qu.:62.79   1st Qu.: 88.00  \n",
       " Median : 82.00   Median :45.00   Median :62.89   Median : 89.00  \n",
       " Mean   : 82.66   Mean   :44.71   Mean   :63.74   Mean   : 88.99  \n",
       " 3rd Qu.: 87.00   3rd Qu.:49.00   3rd Qu.:65.10   3rd Qu.: 91.00  \n",
       " Max.   :104.00   Max.   :58.00   Max.   :82.11   Max.   :112.00  \n",
       "                                                                  \n",
       " june_min_temp   june_avg_temp   june_max_temp   july_min_temp  \n",
       " Min.   :30.00   Min.   :54.10   Min.   : 67.0   Min.   :37.00  \n",
       " 1st Qu.:50.00   1st Qu.:70.98   1st Qu.: 89.0   1st Qu.:57.00  \n",
       " Median :52.00   Median :72.25   Median : 90.0   Median :63.00  \n",
       " Mean   :51.13   Mean   :71.07   Mean   : 91.4   Mean   :60.57  \n",
       " 3rd Qu.:53.00   3rd Qu.:72.45   3rd Qu.: 94.0   3rd Qu.:63.00  \n",
       " Max.   :68.00   Max.   :89.55   Max.   :119.0   Max.   :74.00  \n",
       "                                                                \n",
       " july_avg_temp   july_max_temp    august_min_temp august_avg_temp\n",
       " Min.   :54.82   Min.   : 65.00   Min.   :31.00   Min.   :56.69  \n",
       " 1st Qu.:76.15   1st Qu.: 95.00   1st Qu.:57.00   1st Qu.:74.52  \n",
       " Median :78.68   Median : 96.00   Median :61.00   Median :75.73  \n",
       " Mean   :76.60   Mean   : 95.54   Mean   :58.52   Mean   :75.35  \n",
       " 3rd Qu.:78.79   3rd Qu.: 98.00   3rd Qu.:61.00   3rd Qu.:78.97  \n",
       " Max.   :94.44   Max.   :117.00   Max.   :77.00   Max.   :94.90  \n",
       "                                                                 \n",
       " august_max_temp  september_min_temp september_avg_temp september_max_temp\n",
       " Min.   : 66.00   Min.   :26.00      Min.   :53.60      Min.   : 64.00    \n",
       " 1st Qu.: 90.00   1st Qu.:47.00      1st Qu.:68.20      1st Qu.: 91.00    \n",
       " Median : 91.00   Median :52.00      Median :69.73      Median : 92.00    \n",
       " Mean   : 92.57   Mean   :50.79      Mean   :69.60      Mean   : 92.17    \n",
       " 3rd Qu.: 95.00   3rd Qu.:54.00      3rd Qu.:71.80      3rd Qu.: 96.00    \n",
       " Max.   :116.00   Max.   :65.00      Max.   :90.12      Max.   :111.00    \n",
       "                                                                          \n",
       " october_min_temp october_avg_temp october_max_temp november_min_temp\n",
       " Min.   :18.00    Min.   :44.69    Min.   : 59.00   Min.   : 4.00    \n",
       " 1st Qu.:35.00    1st Qu.:58.05    1st Qu.: 78.00   1st Qu.:23.00    \n",
       " Median :38.00    Median :58.76    Median : 80.00   Median :31.00    \n",
       " Mean   :38.21    Mean   :58.73    Mean   : 81.14   Mean   :28.63    \n",
       " 3rd Qu.:40.00    3rd Qu.:59.63    3rd Qu.: 85.00   3rd Qu.:34.00    \n",
       " Max.   :61.00    Max.   :80.74    Max.   :108.00   Max.   :52.00    \n",
       "                                                                     \n",
       " november_avg_temp november_max_temp december_min_temp december_avg_temp\n",
       " Min.   :30.77     Min.   :53.0      Min.   :-16.00    Min.   :23.79    \n",
       " 1st Qu.:45.25     1st Qu.:69.0      1st Qu.: 17.00    1st Qu.:38.53    \n",
       " Median :47.12     Median :72.0      Median : 24.00    Median :40.52    \n",
       " Mean   :48.12     Mean   :71.2      Mean   : 22.74    Mean   :41.63    \n",
       " 3rd Qu.:51.34     3rd Qu.:74.0      3rd Qu.: 28.00    3rd Qu.:43.44    \n",
       " Max.   :67.42     Max.   :96.0      Max.   : 44.00    Max.   :61.79    \n",
       "                                                                        \n",
       " december_max_temp cooling_degree_days heating_degree_days precipitation_inches\n",
       " Min.   :42.0      Min.   :   0        Min.   : 398        Min.   :  0.00      \n",
       " 1st Qu.:60.0      1st Qu.:1128        1st Qu.:3978        1st Qu.: 39.35      \n",
       " Median :65.0      Median :1277        Median :4337        Median : 42.17      \n",
       " Mean   :64.5      Mean   :1202        Mean   :4325        Mean   : 42.43      \n",
       " 3rd Qu.:71.0      3rd Qu.:1489        3rd Qu.:4670        3rd Qu.: 46.32      \n",
       " Max.   :86.0      Max.   :4948        Max.   :7929        Max.   :107.69      \n",
       "                                                                               \n",
       " snowfall_inches  snowdepth_inches    avg_temp     days_below_30F  \n",
       " Min.   :  0.00   Min.   :   0.0   Min.   :44.51   Min.   :  0.00  \n",
       " 1st Qu.:  9.60   1st Qu.:  10.0   1st Qu.:55.15   1st Qu.: 22.00  \n",
       " Median : 31.60   Median : 101.0   Median :56.84   Median : 50.00  \n",
       " Mean   : 29.14   Mean   : 164.9   Mean   :56.18   Mean   : 48.76  \n",
       " 3rd Qu.: 49.10   3rd Qu.: 377.0   3rd Qu.:57.22   3rd Qu.: 66.00  \n",
       " Max.   :127.30   Max.   :1292.0   Max.   :77.25   Max.   :170.00  \n",
       "                                                                   \n",
       " days_below_20F  days_below_10F   days_below_0F     days_above_80F  \n",
       " Min.   : 0.00   Min.   : 0.000   Min.   : 0.0000   Min.   :  0.00  \n",
       " 1st Qu.: 5.00   1st Qu.: 0.000   1st Qu.: 0.0000   1st Qu.: 72.00  \n",
       " Median :11.00   Median : 2.000   Median : 0.0000   Median : 84.00  \n",
       " Mean   :17.45   Mean   : 4.887   Mean   : 0.8768   Mean   : 82.71  \n",
       " 3rd Qu.:26.00   3rd Qu.: 7.000   3rd Qu.: 0.0000   3rd Qu.: 97.00  \n",
       " Max.   :93.00   Max.   :59.000   Max.   :31.0000   Max.   :260.00  \n",
       "                                                                    \n",
       " days_above_90F   days_above_100F    days_above_110F    \n",
       " Min.   :  0.00   Min.   :  0.0000   Min.   : 0.000000  \n",
       " 1st Qu.:  6.00   1st Qu.:  0.0000   1st Qu.: 0.000000  \n",
       " Median : 12.00   Median :  0.0000   Median : 0.000000  \n",
       " Mean   : 14.06   Mean   :  0.2795   Mean   : 0.002442  \n",
       " 3rd Qu.: 17.00   3rd Qu.:  0.0000   3rd Qu.: 0.000000  \n",
       " Max.   :185.00   Max.   :119.0000   Max.   :16.000000  \n",
       "                                                        \n",
       " direction_max_wind_speed direction_peak_wind_speed max_wind_speed \n",
       " Min.   :  1.00           Min.   :  1.00            Min.   : 1.00  \n",
       " 1st Qu.:  1.00           1st Qu.:  1.00            1st Qu.: 1.00  \n",
       " Median :  1.00           Median :  1.00            Median : 1.00  \n",
       " Mean   : 66.55           Mean   : 62.78            Mean   : 4.19  \n",
       " 3rd Qu.:  1.00           3rd Qu.:  1.00            3rd Qu.: 1.00  \n",
       " Max.   :360.00           Max.   :360.00            Max.   :23.30  \n",
       " NA's   :41082            NA's   :41811             NA's   :41082  \n",
       " days_with_fog      site_eui             id       \n",
       " Min.   : 12.0   Min.   :  1.001   Min.   :    0  \n",
       " 1st Qu.: 88.0   1st Qu.: 54.529   1st Qu.:18939  \n",
       " Median :104.0   Median : 75.294   Median :37878  \n",
       " Mean   :109.1   Mean   : 82.585   Mean   :37878  \n",
       " 3rd Qu.:131.0   3rd Qu.: 97.278   3rd Qu.:56817  \n",
       " Max.   :311.0   Max.   :997.866   Max.   :75756  \n",
       " NA's   :45796                                    "
      ]
     },
     "metadata": {},
     "output_type": "display_data"
    }
   ],
   "source": [
    "summary(df)"
   ]
  },
  {
   "cell_type": "code",
   "execution_count": 6,
   "id": "5af4ad0a",
   "metadata": {},
   "outputs": [
    {
     "data": {
      "image/png": "[encoded data removed]",
      "text/plain": [
       "plot without title"
      ]
     },
     "metadata": {},
     "output_type": "display_data"
    },
    {
     "data": {
      "image/png": "[encoded data removed]",
      "text/plain": [
       "plot without title"
      ]
     },
     "metadata": {},
     "output_type": "display_data"
    },
    {
     "data": {
      "image/png": "[encoded data removed]",
      "text/plain": [
       "plot without title"
      ]
     },
     "metadata": {},
     "output_type": "display_data"
    },
    {
     "data": {
      "image/png": "[encoded data removed]",
      "text/plain": [
       "plot without title"
      ]
     },
     "metadata": {},
     "output_type": "display_data"
    }
   ],
   "source": [
    "plot_histogram(df)"
   ]
  },
  {
   "cell_type": "markdown",
   "id": "d306fd42",
   "metadata": {},
   "source": [
    "Elevation and floor_area being highly positively skewed.\n",
    "Energy_star_rating is negatively skewed with mean less than median and most of the values lie between 60-100.\n",
    "Significant 30% of the buildings have year_built between 1950-1970 and more than 80% fall under 20th century which shows that most of the buildings are very old. It would be interesting to see if there is any trend on energy usage wrt building age.\n",
    "There is no significant pattern or distribution in the temperature variables and days below_temp variables.\n",
    "Site_eui has values ranging from 1 to 997, with 75% values less than equal to 97 and one-third values between 70 to 97."
   ]
  },
  {
   "cell_type": "markdown",
   "id": "3de63b67",
   "metadata": {},
   "source": [
    "### Checking missing values in the given column attributes"
   ]
  },
  {
   "cell_type": "code",
   "execution_count": 7,
   "id": "d8d34b7c",
   "metadata": {},
   "outputs": [
    {
     "data": {
      "image/png": "[encoded data removed]",
      "text/plain": [
       "plot without title"
      ]
     },
     "metadata": {},
     "output_type": "display_data"
    }
   ],
   "source": [
    "plot_missing(df)"
   ]
  },
  {
   "cell_type": "markdown",
   "id": "1ae7b060",
   "metadata": {},
   "source": [
    "### Creating new data frame for analysing only numerical variables"
   ]
  },
  {
   "cell_type": "code",
   "execution_count": 8,
   "id": "59104a37",
   "metadata": {},
   "outputs": [],
   "source": [
    "df_num<-df %>% select_if(is.numeric)"
   ]
  },
  {
   "cell_type": "markdown",
   "id": "4479c8d8",
   "metadata": {},
   "source": [
    "### Checking variables with very high correlations"
   ]
  },
  {
   "cell_type": "code",
   "execution_count": 9,
   "id": "f495ae8f",
   "metadata": {
    "scrolled": true
   },
   "outputs": [
    {
     "data": {
      "text/html": [
       "<table>\n",
       "<thead><tr><th></th><th scope=col>Var1</th><th scope=col>Var2</th><th scope=col>Freq</th></tr></thead>\n",
       "<tbody>\n",
       "\t<tr><th scope=row>312</th><td>january_avg_temp   </td><td>january_min_temp   </td><td> 0.9711487         </td></tr>\n",
       "\t<tr><th scope=row>348</th><td>heating_degree_days</td><td>january_min_temp   </td><td>-0.8909047         </td></tr>\n",
       "\t<tr><th scope=row>372</th><td>january_min_temp   </td><td>january_avg_temp   </td><td> 0.9711487         </td></tr>\n",
       "\t<tr><th scope=row>376</th><td>february_avg_temp  </td><td>january_avg_temp   </td><td> 0.9112279         </td></tr>\n",
       "\t<tr><th scope=row>378</th><td>march_min_temp     </td><td>january_avg_temp   </td><td> 0.9075873         </td></tr>\n",
       "\t<tr><th scope=row>409</th><td>heating_degree_days</td><td>january_avg_temp   </td><td>-0.9073663         </td></tr>\n",
       "\t<tr><th scope=row>414</th><td>days_below_30F     </td><td>january_avg_temp   </td><td>-0.8900949         </td></tr>\n",
       "\t<tr><th scope=row>556</th><td>january_avg_temp   </td><td>february_avg_temp  </td><td> 0.9112279         </td></tr>\n",
       "\t<tr><th scope=row>561</th><td>march_min_temp     </td><td>february_avg_temp  </td><td> 0.9008912         </td></tr>\n",
       "\t<tr><th scope=row>562</th><td>march_avg_temp     </td><td>february_avg_temp  </td><td> 0.8875162         </td></tr>\n",
       "\t<tr><th scope=row>598</th><td>days_below_20F     </td><td>february_avg_temp  </td><td>-0.8868454         </td></tr>\n",
       "\t<tr><th scope=row>678</th><td>january_avg_temp   </td><td>march_min_temp     </td><td> 0.9075873         </td></tr>\n",
       "\t<tr><th scope=row>681</th><td>february_avg_temp  </td><td>march_min_temp     </td><td> 0.9008912         </td></tr>\n",
       "\t<tr><th scope=row>720</th><td>days_below_20F     </td><td>march_min_temp     </td><td>-0.8862455         </td></tr>\n",
       "\t<tr><th scope=row>742</th><td>february_avg_temp  </td><td>march_avg_temp     </td><td> 0.8875162         </td></tr>\n",
       "\t<tr><th scope=row>958</th><td>heating_degree_days</td><td>april_avg_temp     </td><td>-0.8840726         </td></tr>\n",
       "\t<tr><th scope=row>1430</th><td>august_min_temp    </td><td>july_min_temp      </td><td> 0.8837248         </td></tr>\n",
       "\t<tr><th scope=row>1506</th><td>cooling_degree_days</td><td>july_avg_temp      </td><td> 0.9179711         </td></tr>\n",
       "\t<tr><th scope=row>1610</th><td>july_min_temp      </td><td>august_min_temp    </td><td> 0.8837248         </td></tr>\n",
       "\t<tr><th scope=row>1689</th><td>cooling_degree_days</td><td>august_avg_temp    </td><td> 0.9526858         </td></tr>\n",
       "\t<tr><th scope=row>2358</th><td>december_avg_temp  </td><td>december_min_temp  </td><td> 0.9102067         </td></tr>\n",
       "\t<tr><th scope=row>2418</th><td>december_min_temp  </td><td>december_avg_temp  </td><td> 0.9102067         </td></tr>\n",
       "\t<tr><th scope=row>2526</th><td>july_avg_temp      </td><td>cooling_degree_days</td><td> 0.9179711         </td></tr>\n",
       "\t<tr><th scope=row>2529</th><td>august_avg_temp    </td><td>cooling_degree_days</td><td> 0.9526858         </td></tr>\n",
       "\t<tr><th scope=row>2568</th><td>january_min_temp   </td><td>heating_degree_days</td><td>-0.8909047         </td></tr>\n",
       "\t<tr><th scope=row>2569</th><td>january_avg_temp   </td><td>heating_degree_days</td><td>-0.9073663         </td></tr>\n",
       "\t<tr><th scope=row>2578</th><td>april_avg_temp     </td><td>heating_degree_days</td><td>-0.8840726         </td></tr>\n",
       "\t<tr><th scope=row>2609</th><td>avg_temp           </td><td>heating_degree_days</td><td>-0.8879566         </td></tr>\n",
       "\t<tr><th scope=row>2849</th><td>heating_degree_days</td><td>avg_temp           </td><td>-0.8879566         </td></tr>\n",
       "\t<tr><th scope=row>2874</th><td>january_avg_temp   </td><td>days_below_30F     </td><td>-0.8900949         </td></tr>\n",
       "\t<tr><th scope=row>2916</th><td>days_below_20F     </td><td>days_below_30F     </td><td> 0.8960620         </td></tr>\n",
       "\t<tr><th scope=row>2938</th><td>february_avg_temp  </td><td>days_below_20F     </td><td>-0.8868454         </td></tr>\n",
       "\t<tr><th scope=row>2940</th><td>march_min_temp     </td><td>days_below_20F     </td><td>-0.8862455         </td></tr>\n",
       "\t<tr><th scope=row>2976</th><td>days_below_30F     </td><td>days_below_20F     </td><td> 0.8960620         </td></tr>\n",
       "\t<tr><th scope=row>2978</th><td>days_below_10F     </td><td>days_below_20F     </td><td> 0.9045777         </td></tr>\n",
       "\t<tr><th scope=row>3038</th><td>days_below_20F     </td><td>days_below_10F     </td><td> 0.9045777         </td></tr>\n",
       "</tbody>\n",
       "</table>\n"
      ],
      "text/latex": [
       "\\begin{tabular}{r|lll}\n",
       "  & Var1 & Var2 & Freq\\\\\n",
       "\\hline\n",
       "\t312 & january\\_avg\\_temp    & january\\_min\\_temp    &  0.9711487             \\\\\n",
       "\t348 & heating\\_degree\\_days & january\\_min\\_temp    & -0.8909047             \\\\\n",
       "\t372 & january\\_min\\_temp    & january\\_avg\\_temp    &  0.9711487             \\\\\n",
       "\t376 & february\\_avg\\_temp   & january\\_avg\\_temp    &  0.9112279             \\\\\n",
       "\t378 & march\\_min\\_temp      & january\\_avg\\_temp    &  0.9075873             \\\\\n",
       "\t409 & heating\\_degree\\_days & january\\_avg\\_temp    & -0.9073663             \\\\\n",
       "\t414 & days\\_below\\_30F      & january\\_avg\\_temp    & -0.8900949             \\\\\n",
       "\t556 & january\\_avg\\_temp    & february\\_avg\\_temp   &  0.9112279             \\\\\n",
       "\t561 & march\\_min\\_temp      & february\\_avg\\_temp   &  0.9008912             \\\\\n",
       "\t562 & march\\_avg\\_temp      & february\\_avg\\_temp   &  0.8875162             \\\\\n",
       "\t598 & days\\_below\\_20F      & february\\_avg\\_temp   & -0.8868454             \\\\\n",
       "\t678 & january\\_avg\\_temp    & march\\_min\\_temp      &  0.9075873             \\\\\n",
       "\t681 & february\\_avg\\_temp   & march\\_min\\_temp      &  0.9008912             \\\\\n",
       "\t720 & days\\_below\\_20F      & march\\_min\\_temp      & -0.8862455             \\\\\n",
       "\t742 & february\\_avg\\_temp   & march\\_avg\\_temp      &  0.8875162             \\\\\n",
       "\t958 & heating\\_degree\\_days & april\\_avg\\_temp      & -0.8840726             \\\\\n",
       "\t1430 & august\\_min\\_temp     & july\\_min\\_temp       &  0.8837248             \\\\\n",
       "\t1506 & cooling\\_degree\\_days & july\\_avg\\_temp       &  0.9179711             \\\\\n",
       "\t1610 & july\\_min\\_temp       & august\\_min\\_temp     &  0.8837248             \\\\\n",
       "\t1689 & cooling\\_degree\\_days & august\\_avg\\_temp     &  0.9526858             \\\\\n",
       "\t2358 & december\\_avg\\_temp   & december\\_min\\_temp   &  0.9102067             \\\\\n",
       "\t2418 & december\\_min\\_temp   & december\\_avg\\_temp   &  0.9102067             \\\\\n",
       "\t2526 & july\\_avg\\_temp       & cooling\\_degree\\_days &  0.9179711             \\\\\n",
       "\t2529 & august\\_avg\\_temp     & cooling\\_degree\\_days &  0.9526858             \\\\\n",
       "\t2568 & january\\_min\\_temp    & heating\\_degree\\_days & -0.8909047             \\\\\n",
       "\t2569 & january\\_avg\\_temp    & heating\\_degree\\_days & -0.9073663             \\\\\n",
       "\t2578 & april\\_avg\\_temp      & heating\\_degree\\_days & -0.8840726             \\\\\n",
       "\t2609 & avg\\_temp              & heating\\_degree\\_days & -0.8879566             \\\\\n",
       "\t2849 & heating\\_degree\\_days & avg\\_temp              & -0.8879566             \\\\\n",
       "\t2874 & january\\_avg\\_temp    & days\\_below\\_30F      & -0.8900949             \\\\\n",
       "\t2916 & days\\_below\\_20F      & days\\_below\\_30F      &  0.8960620             \\\\\n",
       "\t2938 & february\\_avg\\_temp   & days\\_below\\_20F      & -0.8868454             \\\\\n",
       "\t2940 & march\\_min\\_temp      & days\\_below\\_20F      & -0.8862455             \\\\\n",
       "\t2976 & days\\_below\\_30F      & days\\_below\\_20F      &  0.8960620             \\\\\n",
       "\t2978 & days\\_below\\_10F      & days\\_below\\_20F      &  0.9045777             \\\\\n",
       "\t3038 & days\\_below\\_20F      & days\\_below\\_10F      &  0.9045777             \\\\\n",
       "\\end{tabular}\n"
      ],
      "text/markdown": [
       "\n",
       "| <!--/--> | Var1 | Var2 | Freq |\n",
       "|---|---|---|---|\n",
       "| 312 | january_avg_temp    | january_min_temp    |  0.9711487          |\n",
       "| 348 | heating_degree_days | january_min_temp    | -0.8909047          |\n",
       "| 372 | january_min_temp    | january_avg_temp    |  0.9711487          |\n",
       "| 376 | february_avg_temp   | january_avg_temp    |  0.9112279          |\n",
       "| 378 | march_min_temp      | january_avg_temp    |  0.9075873          |\n",
       "| 409 | heating_degree_days | january_avg_temp    | -0.9073663          |\n",
       "| 414 | days_below_30F      | january_avg_temp    | -0.8900949          |\n",
       "| 556 | january_avg_temp    | february_avg_temp   |  0.9112279          |\n",
       "| 561 | march_min_temp      | february_avg_temp   |  0.9008912          |\n",
       "| 562 | march_avg_temp      | february_avg_temp   |  0.8875162          |\n",
       "| 598 | days_below_20F      | february_avg_temp   | -0.8868454          |\n",
       "| 678 | january_avg_temp    | march_min_temp      |  0.9075873          |\n",
       "| 681 | february_avg_temp   | march_min_temp      |  0.9008912          |\n",
       "| 720 | days_below_20F      | march_min_temp      | -0.8862455          |\n",
       "| 742 | february_avg_temp   | march_avg_temp      |  0.8875162          |\n",
       "| 958 | heating_degree_days | april_avg_temp      | -0.8840726          |\n",
       "| 1430 | august_min_temp     | july_min_temp       |  0.8837248          |\n",
       "| 1506 | cooling_degree_days | july_avg_temp       |  0.9179711          |\n",
       "| 1610 | july_min_temp       | august_min_temp     |  0.8837248          |\n",
       "| 1689 | cooling_degree_days | august_avg_temp     |  0.9526858          |\n",
       "| 2358 | december_avg_temp   | december_min_temp   |  0.9102067          |\n",
       "| 2418 | december_min_temp   | december_avg_temp   |  0.9102067          |\n",
       "| 2526 | july_avg_temp       | cooling_degree_days |  0.9179711          |\n",
       "| 2529 | august_avg_temp     | cooling_degree_days |  0.9526858          |\n",
       "| 2568 | january_min_temp    | heating_degree_days | -0.8909047          |\n",
       "| 2569 | january_avg_temp    | heating_degree_days | -0.9073663          |\n",
       "| 2578 | april_avg_temp      | heating_degree_days | -0.8840726          |\n",
       "| 2609 | avg_temp            | heating_degree_days | -0.8879566          |\n",
       "| 2849 | heating_degree_days | avg_temp            | -0.8879566          |\n",
       "| 2874 | january_avg_temp    | days_below_30F      | -0.8900949          |\n",
       "| 2916 | days_below_20F      | days_below_30F      |  0.8960620          |\n",
       "| 2938 | february_avg_temp   | days_below_20F      | -0.8868454          |\n",
       "| 2940 | march_min_temp      | days_below_20F      | -0.8862455          |\n",
       "| 2976 | days_below_30F      | days_below_20F      |  0.8960620          |\n",
       "| 2978 | days_below_10F      | days_below_20F      |  0.9045777          |\n",
       "| 3038 | days_below_20F      | days_below_10F      |  0.9045777          |\n",
       "\n"
      ],
      "text/plain": [
       "     Var1                Var2                Freq      \n",
       "312  january_avg_temp    january_min_temp     0.9711487\n",
       "348  heating_degree_days january_min_temp    -0.8909047\n",
       "372  january_min_temp    january_avg_temp     0.9711487\n",
       "376  february_avg_temp   january_avg_temp     0.9112279\n",
       "378  march_min_temp      january_avg_temp     0.9075873\n",
       "409  heating_degree_days january_avg_temp    -0.9073663\n",
       "414  days_below_30F      january_avg_temp    -0.8900949\n",
       "556  january_avg_temp    february_avg_temp    0.9112279\n",
       "561  march_min_temp      february_avg_temp    0.9008912\n",
       "562  march_avg_temp      february_avg_temp    0.8875162\n",
       "598  days_below_20F      february_avg_temp   -0.8868454\n",
       "678  january_avg_temp    march_min_temp       0.9075873\n",
       "681  february_avg_temp   march_min_temp       0.9008912\n",
       "720  days_below_20F      march_min_temp      -0.8862455\n",
       "742  february_avg_temp   march_avg_temp       0.8875162\n",
       "958  heating_degree_days april_avg_temp      -0.8840726\n",
       "1430 august_min_temp     july_min_temp        0.8837248\n",
       "1506 cooling_degree_days july_avg_temp        0.9179711\n",
       "1610 july_min_temp       august_min_temp      0.8837248\n",
       "1689 cooling_degree_days august_avg_temp      0.9526858\n",
       "2358 december_avg_temp   december_min_temp    0.9102067\n",
       "2418 december_min_temp   december_avg_temp    0.9102067\n",
       "2526 july_avg_temp       cooling_degree_days  0.9179711\n",
       "2529 august_avg_temp     cooling_degree_days  0.9526858\n",
       "2568 january_min_temp    heating_degree_days -0.8909047\n",
       "2569 january_avg_temp    heating_degree_days -0.9073663\n",
       "2578 april_avg_temp      heating_degree_days -0.8840726\n",
       "2609 avg_temp            heating_degree_days -0.8879566\n",
       "2849 heating_degree_days avg_temp            -0.8879566\n",
       "2874 january_avg_temp    days_below_30F      -0.8900949\n",
       "2916 days_below_20F      days_below_30F       0.8960620\n",
       "2938 february_avg_temp   days_below_20F      -0.8868454\n",
       "2940 march_min_temp      days_below_20F      -0.8862455\n",
       "2976 days_below_30F      days_below_20F       0.8960620\n",
       "2978 days_below_10F      days_below_20F       0.9045777\n",
       "3038 days_below_20F      days_below_10F       0.9045777"
      ]
     },
     "metadata": {},
     "output_type": "display_data"
    }
   ],
   "source": [
    "#Checking collinearity or relationship between similar variables\n",
    "z <- cor(df_num)\n",
    "zdf <- as.data.frame(as.table(z))\n",
    "zdf1 <- subset(zdf, abs(Freq) > 0.88)\n",
    "subset(zdf1, abs(Freq) <1)"
   ]
  },
  {
   "cell_type": "markdown",
   "id": "5dd82cb0",
   "metadata": {},
   "source": [
    "Clearly, most of the monthly temp_ variables, heating_degree_days and days_below_ variables are highly correlated.\n",
    "So there is a need to remove most of these redundant information going forward."
   ]
  },
  {
   "cell_type": "markdown",
   "id": "f8f23034",
   "metadata": {},
   "source": [
    "## Correlation Analysis\n",
    "\n",
    "Firstly we will create a subset of numerical dataframe that we created earlier by excluding the redundant variables and the variables with NA values. And create a correlation matrix for the subset dataframe created.\n",
    "\n",
    "Secondly we will create another dataframe where we will keep the variables with NA values but remove all the rows with NA values. And create a correaltion matrix for the dataframe created.\n",
    "\n",
    "Then we will compare for the correlation stats, to define the influentional variables and how removing the NA values is impacting the correlation for rest of the variables in the remaining dataset."
   ]
  },
  {
   "cell_type": "code",
   "execution_count": 10,
   "id": "9e51c385",
   "metadata": {
    "scrolled": true
   },
   "outputs": [
    {
     "data": {
      "image/png": "[encoded data removed]",
      "text/plain": [
       "plot without title"
      ]
     },
     "metadata": {},
     "output_type": "display_data"
    }
   ],
   "source": [
    "df_num1 <- select(df_num, site_eui,floor_area,ELEVATION,avg_temp,\n",
    "                  precipitation_inches,snowfall_inches,snowdepth_inches,\n",
    "                  cooling_degree_days,heating_degree_days,days_below_30F)\n",
    "\n",
    "ggcorrplot(cor(df_num1), hc.order=TRUE,type=\"lower\",p.mat=cor_pmat(df_num1),insig=\"blank\",lab=\"TRUE\", lab_size=3)"
   ]
  },
  {
   "cell_type": "code",
   "execution_count": 11,
   "id": "b2afd836",
   "metadata": {
    "scrolled": true
   },
   "outputs": [
    {
     "data": {
      "image/png": "[encoded data removed]",
      "text/plain": [
       "plot without title"
      ]
     },
     "metadata": {},
     "output_type": "display_data"
    }
   ],
   "source": [
    "df_num_omit <- na.omit(df_num)\n",
    "\n",
    "df_num2 <- select(df_num_omit, site_eui,floor_area,ELEVATION,avg_temp,\n",
    "                  precipitation_inches,snowfall_inches,snowdepth_inches,\n",
    "                  cooling_degree_days,heating_degree_days,days_below_30F,\n",
    "                 energy_star_rating,max_wind_speed,days_with_fog,\n",
    "                  direction_max_wind_speed,year_built)\n",
    "\n",
    "ggcorrplot(cor(df_num2), hc.order=TRUE,type=\"lower\",p.mat=cor_pmat(df_num2),insig=\"blank\",lab=\"TRUE\", lab_size=3)"
   ]
  },
  {
   "cell_type": "markdown",
   "id": "beebca34",
   "metadata": {},
   "source": [
    "Important variables having relatively higher coefficients as per coefficient matrix include energy_star_rating,precipitation_inches,snowfall_inches,cooling_degree_days,heating_degree_days and days_below_30F.\n",
    "Omitting NA values has reduced significant amount of data further weakening the correlation factor of other variables wrt site_eui. Also energy_star_rating being a highly correlated factor to site_eui, as compared to others there is a need to fill its missing values, for more efficient predictive model, going forward."
   ]
  },
  {
   "cell_type": "markdown",
   "id": "052dd722",
   "metadata": {},
   "source": [
    "### Correlation Analaysis separately for Commercial and Residential building class\n",
    "\n",
    "We tried to analyse the correlation of other variables wrt site_eui seperately for commercial and residential building class data. No significant difference in correlation coefficients could be found."
   ]
  },
  {
   "cell_type": "code",
   "execution_count": 12,
   "id": "0274ba14",
   "metadata": {},
   "outputs": [
    {
     "data": {
      "image/png": "[encoded data removed]",
      "text/plain": [
       "plot without title"
      ]
     },
     "metadata": {},
     "output_type": "display_data"
    }
   ],
   "source": [
    "df_com <- filter(df, building_class == \"Commercial\")\n",
    "df_num_com<-df_com %>% select_if(is.numeric)\n",
    "df_num_omit_com <- na.omit(df_num_com)\n",
    "\n",
    "df_num_corr <- select(df_num_omit_com, site_eui,floor_area,ELEVATION,avg_temp,\n",
    "                  precipitation_inches,snowfall_inches,snowdepth_inches,\n",
    "                  cooling_degree_days,heating_degree_days,days_below_30F,\n",
    "                 energy_star_rating,max_wind_speed,days_with_fog,\n",
    "                      direction_max_wind_speed,year_built)\n",
    "\n",
    "ggcorrplot(cor(df_num_corr), hc.order=TRUE,type=\"lower\",p.mat=cor_pmat(df_num_corr),insig=\"blank\",lab=\"TRUE\", lab_size=3)"
   ]
  },
  {
   "cell_type": "code",
   "execution_count": 13,
   "id": "9c7ea04e",
   "metadata": {},
   "outputs": [
    {
     "data": {
      "image/png": "[encoded data removed]",
      "text/plain": [
       "plot without title"
      ]
     },
     "metadata": {},
     "output_type": "display_data"
    }
   ],
   "source": [
    "df_res <- filter(df, building_class == \"Residential\")\n",
    "df_num_res<-df_res %>% select_if(is.numeric)\n",
    "df_num_omit_res <- na.omit(df_num_res)\n",
    "\n",
    "df_num_corr1 <- select(df_num_omit_res, site_eui,floor_area,ELEVATION,avg_temp,\n",
    "                  precipitation_inches,snowfall_inches,snowdepth_inches,\n",
    "                  cooling_degree_days,heating_degree_days,days_below_30F,\n",
    "                 energy_star_rating,max_wind_speed,days_with_fog,\n",
    "                       direction_max_wind_speed,year_built)\n",
    "\n",
    "ggcorrplot(cor(df_num_corr1), hc.order=TRUE,type=\"lower\",p.mat=cor_pmat(df_num_corr1),insig=\"blank\",lab=\"TRUE\", lab_size=3)"
   ]
  },
  {
   "cell_type": "markdown",
   "id": "fc50e703",
   "metadata": {},
   "source": [
    "Below correlation plot shows that none of the variables have a clear linear correlation with site_eui. Linear correlation is visible in case of variables of similar nature only, like avg_temp and heating_degree_days."
   ]
  },
  {
   "cell_type": "code",
   "execution_count": 14,
   "id": "6ff93b33",
   "metadata": {},
   "outputs": [
    {
     "data": {
      "image/png": "[encoded data removed]",
      "text/plain": [
       "plot without title"
      ]
     },
     "metadata": {},
     "output_type": "display_data"
    }
   ],
   "source": [
    "pairs(df_num1, cex=0.5)"
   ]
  },
  {
   "cell_type": "markdown",
   "id": "03cba29c",
   "metadata": {},
   "source": [
    "## Dealing with NA values"
   ]
  },
  {
   "cell_type": "markdown",
   "id": "71add196",
   "metadata": {},
   "source": [
    "From the above analysis we concluded that wind details have very low correlation with site_eui. Hence we decided to drop the columns-\n",
    "1. containing wind direction and speed details and\n",
    "2. days_with_fog\n",
    "\n",
    "For the other two columns i.e, year_built and energy_star_rating, we will be filling the NA values with the median values based on the State and the building class variables.\n",
    "\n",
    "The reason for choosing to not dropping energy star rating was that if a building has a higher enery star rating, it implies that it has better efficieny in energy consumption, which will inturn have an effect on the site energy use intensity.\n",
    "\n",
    "Same goes for year built. Older buildings may have higher energy consumption due to outdated electrical wiring or appliances in working condition. Hence, this may affect the site EUI."
   ]
  },
  {
   "cell_type": "markdown",
   "id": "452a2cec",
   "metadata": {},
   "source": [
    "First to understand what are the median values, we group the data based on State_Factor and building_class and then identify the median values of energy star rating against each state number and building class."
   ]
  },
  {
   "cell_type": "code",
   "execution_count": 15,
   "id": "3431422f",
   "metadata": {},
   "outputs": [
    {
     "data": {
      "text/html": [
       "<table>\n",
       "<thead><tr><th scope=col>State_Factor</th><th scope=col>building_class</th><th scope=col>median(energy_star_rating, na.rm = TRUE)</th></tr></thead>\n",
       "<tbody>\n",
       "\t<tr><td>State_1    </td><td>Commercial </td><td>82.0       </td></tr>\n",
       "\t<tr><td>State_1    </td><td>Residential</td><td>80.0       </td></tr>\n",
       "\t<tr><td>State_10   </td><td>Commercial </td><td>84.5       </td></tr>\n",
       "\t<tr><td>State_11   </td><td>Commercial </td><td>72.5       </td></tr>\n",
       "\t<tr><td>State_11   </td><td>Residential</td><td>77.0       </td></tr>\n",
       "\t<tr><td>State_2    </td><td>Commercial </td><td>70.0       </td></tr>\n",
       "\t<tr><td>State_2    </td><td>Residential</td><td>60.0       </td></tr>\n",
       "\t<tr><td>State_4    </td><td>Commercial </td><td>67.0       </td></tr>\n",
       "\t<tr><td>State_4    </td><td>Residential</td><td>61.0       </td></tr>\n",
       "\t<tr><td>State_6    </td><td>Commercial </td><td>71.0       </td></tr>\n",
       "\t<tr><td>State_6    </td><td>Residential</td><td>60.0       </td></tr>\n",
       "\t<tr><td>State_8    </td><td>Commercial </td><td>61.0       </td></tr>\n",
       "\t<tr><td>State_8    </td><td>Residential</td><td>49.5       </td></tr>\n",
       "</tbody>\n",
       "</table>\n"
      ],
      "text/latex": [
       "\\begin{tabular}{r|lll}\n",
       " State\\_Factor & building\\_class & median(energy\\_star\\_rating, na.rm = TRUE)\\\\\n",
       "\\hline\n",
       "\t State\\_1   & Commercial  & 82.0       \\\\\n",
       "\t State\\_1   & Residential & 80.0       \\\\\n",
       "\t State\\_10  & Commercial  & 84.5       \\\\\n",
       "\t State\\_11  & Commercial  & 72.5       \\\\\n",
       "\t State\\_11  & Residential & 77.0       \\\\\n",
       "\t State\\_2   & Commercial  & 70.0       \\\\\n",
       "\t State\\_2   & Residential & 60.0       \\\\\n",
       "\t State\\_4   & Commercial  & 67.0       \\\\\n",
       "\t State\\_4   & Residential & 61.0       \\\\\n",
       "\t State\\_6   & Commercial  & 71.0       \\\\\n",
       "\t State\\_6   & Residential & 60.0       \\\\\n",
       "\t State\\_8   & Commercial  & 61.0       \\\\\n",
       "\t State\\_8   & Residential & 49.5       \\\\\n",
       "\\end{tabular}\n"
      ],
      "text/markdown": [
       "\n",
       "| State_Factor | building_class | median(energy_star_rating, na.rm = TRUE) |\n",
       "|---|---|---|\n",
       "| State_1     | Commercial  | 82.0        |\n",
       "| State_1     | Residential | 80.0        |\n",
       "| State_10    | Commercial  | 84.5        |\n",
       "| State_11    | Commercial  | 72.5        |\n",
       "| State_11    | Residential | 77.0        |\n",
       "| State_2     | Commercial  | 70.0        |\n",
       "| State_2     | Residential | 60.0        |\n",
       "| State_4     | Commercial  | 67.0        |\n",
       "| State_4     | Residential | 61.0        |\n",
       "| State_6     | Commercial  | 71.0        |\n",
       "| State_6     | Residential | 60.0        |\n",
       "| State_8     | Commercial  | 61.0        |\n",
       "| State_8     | Residential | 49.5        |\n",
       "\n"
      ],
      "text/plain": [
       "   State_Factor building_class median(energy_star_rating, na.rm = TRUE)\n",
       "1  State_1      Commercial     82.0                                    \n",
       "2  State_1      Residential    80.0                                    \n",
       "3  State_10     Commercial     84.5                                    \n",
       "4  State_11     Commercial     72.5                                    \n",
       "5  State_11     Residential    77.0                                    \n",
       "6  State_2      Commercial     70.0                                    \n",
       "7  State_2      Residential    60.0                                    \n",
       "8  State_4      Commercial     67.0                                    \n",
       "9  State_4      Residential    61.0                                    \n",
       "10 State_6      Commercial     71.0                                    \n",
       "11 State_6      Residential    60.0                                    \n",
       "12 State_8      Commercial     61.0                                    \n",
       "13 State_8      Residential    49.5                                    "
      ]
     },
     "metadata": {},
     "output_type": "display_data"
    }
   ],
   "source": [
    "df %>%\n",
    "group_by(State_Factor, building_class) %>%\n",
    "summarise(median(energy_star_rating, na.rm = TRUE), .groups = 'drop')"
   ]
  },
  {
   "cell_type": "markdown",
   "id": "1cdb64c6",
   "metadata": {},
   "source": [
    "Now, we are replacing the NA values by the median values and calculated below. First, we group the data based on State and building class, then mutate the values into the energy_star_rating and year_built columns using an ifelse() statement."
   ]
  },
  {
   "cell_type": "code",
   "execution_count": 16,
   "id": "a6945599",
   "metadata": {},
   "outputs": [],
   "source": [
    "df_1 <- df %>% \n",
    "          group_by(State_Factor,building_class) %>% \n",
    "          mutate(energy_star_rating = ifelse(is.na(energy_star_rating), \n",
    "                            median(energy_star_rating, na.rm = TRUE), \n",
    "                            energy_star_rating)) %>%\n",
    "          mutate(year_built = ifelse(is.na(year_built), \n",
    "                            median(year_built, na.rm = TRUE), \n",
    "                            year_built)) %>% ungroup()"
   ]
  },
  {
   "cell_type": "code",
   "execution_count": 17,
   "id": "784ebd19",
   "metadata": {},
   "outputs": [
    {
     "data": {
      "text/plain": [
       "   Min. 1st Qu.  Median    Mean 3rd Qu.    Max. \n",
       "   0.00   56.00   61.00   62.28   79.00  100.00 "
      ]
     },
     "metadata": {},
     "output_type": "display_data"
    }
   ],
   "source": [
    "summary(df_1$energy_star_rating)"
   ]
  },
  {
   "cell_type": "markdown",
   "id": "7b0c6b37",
   "metadata": {},
   "source": [
    "Further, we also wanted to check if replacing the NA values of energy_star_rating with the mean value made any difference in the median and mean values obtained for the whole column."
   ]
  },
  {
   "cell_type": "code",
   "execution_count": 19,
   "id": "e7ea0c0b",
   "metadata": {},
   "outputs": [],
   "source": [
    "df_2 <- df %>% \n",
    "          group_by(State_Factor,building_class) %>% \n",
    "          mutate(energy_star_rating = ifelse(is.na(energy_star_rating), \n",
    "                            mean(energy_star_rating, na.rm = TRUE), \n",
    "                            energy_star_rating)) %>%\n",
    "          mutate(year_built = ifelse(is.na(year_built), \n",
    "                            median(year_built, na.rm = TRUE), \n",
    "                            year_built)) %>%\n",
    "        ungroup()"
   ]
  },
  {
   "cell_type": "code",
   "execution_count": 20,
   "id": "e4056d51",
   "metadata": {
    "scrolled": true
   },
   "outputs": [
    {
     "data": {
      "text/plain": [
       "   Min. 1st Qu.  Median    Mean 3rd Qu.    Max. \n",
       "   0.00   56.00   58.00   60.62   76.00  100.00 "
      ]
     },
     "metadata": {},
     "output_type": "display_data"
    }
   ],
   "source": [
    "summary(df_2$energy_star_rating)"
   ]
  },
  {
   "cell_type": "markdown",
   "id": "9ce97702",
   "metadata": {},
   "source": [
    "for both ways of replacing the NA values in energy_star_rating we observe that the data is positively skewd. Therefore, we will first be using the df_2 dataframe for further analysis."
   ]
  },
  {
   "cell_type": "code",
   "execution_count": 21,
   "id": "570ecddc",
   "metadata": {},
   "outputs": [],
   "source": [
    "df_1 <- df_1%>%\n",
    "select(-c(direction_max_wind_speed,direction_peak_wind_speed,\n",
    "          max_wind_speed,days_with_fog))"
   ]
  },
  {
   "cell_type": "markdown",
   "id": "d207c26e",
   "metadata": {},
   "source": [
    "Checking whether replacing the NA values had an effect on the correlation value between enery_star_rating and site_eui. "
   ]
  },
  {
   "cell_type": "code",
   "execution_count": 22,
   "id": "ee572f8b",
   "metadata": {},
   "outputs": [],
   "source": [
    "df_num3 <- select(df_2, site_eui,energy_star_rating)"
   ]
  },
  {
   "cell_type": "code",
   "execution_count": 23,
   "id": "12ae2bac",
   "metadata": {},
   "outputs": [
    {
     "data": {
      "text/html": [
       "<table>\n",
       "<thead><tr><th></th><th scope=col>site_eui</th><th scope=col>energy_star_rating</th></tr></thead>\n",
       "<tbody>\n",
       "\t<tr><th scope=row>site_eui</th><td> 1.0000000</td><td>-0.3829763</td></tr>\n",
       "\t<tr><th scope=row>energy_star_rating</th><td>-0.3829763</td><td> 1.0000000</td></tr>\n",
       "</tbody>\n",
       "</table>\n"
      ],
      "text/latex": [
       "\\begin{tabular}{r|ll}\n",
       "  & site\\_eui & energy\\_star\\_rating\\\\\n",
       "\\hline\n",
       "\tsite\\_eui &  1.0000000 & -0.3829763\\\\\n",
       "\tenergy\\_star\\_rating & -0.3829763 &  1.0000000\\\\\n",
       "\\end{tabular}\n"
      ],
      "text/markdown": [
       "\n",
       "| <!--/--> | site_eui | energy_star_rating |\n",
       "|---|---|---|\n",
       "| site_eui |  1.0000000 | -0.3829763 |\n",
       "| energy_star_rating | -0.3829763 |  1.0000000 |\n",
       "\n"
      ],
      "text/plain": [
       "                   site_eui   energy_star_rating\n",
       "site_eui            1.0000000 -0.3829763        \n",
       "energy_star_rating -0.3829763  1.0000000        "
      ]
     },
     "metadata": {},
     "output_type": "display_data"
    }
   ],
   "source": [
    "cor(df_num3)"
   ]
  },
  {
   "cell_type": "markdown",
   "id": "f70c8977",
   "metadata": {},
   "source": [
    "The correlation value between enery_star_rating and site_eui has come down from -0.48 to -0.38. Since, the correlation already is very low we considered the corrrelation of 0.38 for futher analysis."
   ]
  },
  {
   "cell_type": "markdown",
   "id": "d7566361",
   "metadata": {},
   "source": [
    "## Dealing with Factor variables"
   ]
  },
  {
   "cell_type": "markdown",
   "id": "d2e2155e",
   "metadata": {},
   "source": [
    "We have three categorical variables in the dataset-\n",
    "1. State_factor - details about the state in terms of a numerical index\n",
    "2. building_class - whether a bulding is residential or commercial\n",
    "3. facility_type - describing the type of facility."
   ]
  },
  {
   "cell_type": "markdown",
   "id": "6f77ce16",
   "metadata": {},
   "source": [
    "First we will be dealing with the facility_type categorical variable.\n",
    "\n",
    "Thsi has 60 different levels which will only increase the number of columns for our analysis.\n",
    "Hence, by observation we see that close to 50% of the data consists of \"Multifamily_Uncategorized\" category followed by \"Office_uncategorized\" maing up 16%. Totally the two categories make up 66% of the data. Most of the data is either residetial categories or commerical/public buildings. 2to4_unit_buildings and 5plus_unit building are the other two residential buildings mentioned in the list of 60 categoires.\n",
    "Thus, we have encoded the facility_type attribute into the following categories--\n",
    "1. Multifamily_uncategorised\n",
    "2. Office_uncategorised\n",
    "3. 2plus_unit buildings\n",
    "4. other commercial/public buildings\n",
    "Here the encoding is done on the basis of (n-1) columns. Hence encoding is done for above mentioned columns 1-4. If all the rows consists of 0 then it describes other commercial/public buildings."
   ]
  },
  {
   "cell_type": "code",
   "execution_count": 24,
   "id": "1880ada0",
   "metadata": {},
   "outputs": [],
   "source": [
    "df_2 <- df_2 %>% \n",
    "    mutate(FT_multi_fam_uncat = ifelse(facility_type == 'Multifamily_Uncategorized',1,0)) %>%\n",
    "    mutate(FT_office_uncat = ifelse(facility_type == 'Office_Uncategorized',1,0)) %>%\n",
    "    mutate(FT_2plus_units_buildings = ifelse(facility_type == '2to4_Unit_Building' &\n",
    "                                   facility_type == '5plus_Unit_Building',1,0))\n",
    "## Rest all are commercial or public buildings.\n"
   ]
  },
  {
   "cell_type": "markdown",
   "id": "98fbe0cc",
   "metadata": {},
   "source": [
    "Similarly, we are also encoding building_class and State_Fator variables."
   ]
  },
  {
   "cell_type": "code",
   "execution_count": 25,
   "id": "a0e1de14",
   "metadata": {},
   "outputs": [],
   "source": [
    "df_2 <- df_2 %>%\n",
    "mutate(building_class_code = ifelse(building_class == 'Residential',1,0))"
   ]
  },
  {
   "cell_type": "markdown",
   "id": "6c8f2f0a",
   "metadata": {},
   "source": [
    "To encode the State_Factor variables, we used a function called \"vtreat\" which automatically trains itself to encode a factor column and then applies it to the new test dataset, which is the same State_Factor column in this dataframe."
   ]
  },
  {
   "cell_type": "code",
   "execution_count": 26,
   "id": "b4293470",
   "metadata": {},
   "outputs": [
    {
     "name": "stdout",
     "output_type": "stream",
     "text": [
      "[1] \"vtreat 1.6.3 inspecting inputs Sun Mar 06 21:02:04 2022\"\n",
      "[1] \"designing treatments Sun Mar 06 21:02:04 2022\"\n",
      "[1] \" have initial level statistics Sun Mar 06 21:02:04 2022\"\n",
      "[1] \" scoring treatments Sun Mar 06 21:02:05 2022\"\n",
      "[1] \"have treatment plan Sun Mar 06 21:02:05 2022\"\n"
     ]
    }
   ],
   "source": [
    "encd <- vtreat::designTreatmentsZ(df_2, \"State_Factor\")\n",
    "sample_1 <- vtreat::prepare(encd, df_2, extracols = \"target\")\n",
    "df_2 <- cbind(df_2,sample_1)"
   ]
  },
  {
   "cell_type": "markdown",
   "id": "dee8444f",
   "metadata": {},
   "source": [
    "## Developing a Linear Regression Model"
   ]
  },
  {
   "cell_type": "markdown",
   "id": "e39fe1e8",
   "metadata": {},
   "source": [
    "Now that we have decided the columns to keep and dealt with rows with NA values, next, we will be generating a Linear regression model using the lm() function. which takes in a dataframe and a formula( which is identifying the dependent and independent variables)\n",
    "\n",
    "Here the dependent variable is site_eui and the rest are the independent variables. Based on the p-value obtained from the liner regression, we will further identify the insignificant variables and eliminate them to try and improve the model for prediction of site_eui value."
   ]
  },
  {
   "cell_type": "code",
   "execution_count": 28,
   "id": "412adc61",
   "metadata": {},
   "outputs": [],
   "source": [
    "df_3<- df_2 %>%\n",
    "select(-c(direction_max_wind_speed,direction_peak_wind_speed,\n",
    "          max_wind_speed,days_with_fog,id))"
   ]
  },
  {
   "cell_type": "code",
   "execution_count": 29,
   "id": "96c66db5",
   "metadata": {
    "scrolled": true
   },
   "outputs": [
    {
     "data": {
      "text/plain": [
       "\n",
       "Call:\n",
       "lm(formula = site_eui ~ ., data = df_3)\n",
       "\n",
       "Residuals:\n",
       "    Min      1Q  Median      3Q     Max \n",
       "-315.58  -18.01   -2.57   11.57  906.89 \n",
       "\n",
       "Coefficients: (13 not defined because of singularities)\n",
       "                                                         Estimate Std. Error\n",
       "(Intercept)                                             1.391e+03  1.376e+03\n",
       "Year_Factor                                            -1.166e+00  1.923e+00\n",
       "State_FactorState_10                                   -2.913e-01  2.427e+01\n",
       "State_FactorState_11                                   -3.557e+01  1.640e+01\n",
       "State_FactorState_2                                    -2.302e+01  2.283e+01\n",
       "State_FactorState_4                                     5.625e+00  2.138e+01\n",
       "State_FactorState_6                                     5.250e+00  1.900e+01\n",
       "State_FactorState_8                                     5.246e+00  2.190e+01\n",
       "building_classResidential                               9.162e+00  2.787e+00\n",
       "facility_type5plus_Unit_Building                        5.611e+00  1.695e+00\n",
       "facility_typeCommercial_Other                           5.645e+01  2.889e+00\n",
       "facility_typeCommercial_Unknown                         8.843e+01  5.853e+00\n",
       "facility_typeData_Center                                2.932e+02  9.398e+00\n",
       "facility_typeEducation_College_or_university            6.900e+01  3.085e+00\n",
       "facility_typeEducation_Other_classroom                  2.832e+01  2.828e+00\n",
       "facility_typeEducation_Preschool_or_daycare             1.807e+01  5.275e+00\n",
       "facility_typeEducation_Uncategorized                    3.165e+01  4.345e+00\n",
       "facility_typeFood_Sales                                 8.408e+01  6.227e+00\n",
       "facility_typeFood_Service_Other                         1.957e+01  1.167e+01\n",
       "facility_typeFood_Service_Restaurant_or_cafeteria       1.756e+02  6.417e+00\n",
       "facility_typeFood_Service_Uncategorized                 9.584e+01  1.134e+01\n",
       "facility_typeGrocery_store_or_food_market               1.988e+02  3.483e+00\n",
       "facility_typeHealth_Care_Inpatient                      2.006e+02  3.586e+00\n",
       "facility_typeHealth_Care_Outpatient_Clinic              6.078e+01  6.815e+00\n",
       "facility_typeHealth_Care_Outpatient_Uncategorized       1.456e+02  8.249e+00\n",
       "facility_typeHealth_Care_Uncategorized                  1.412e+02  7.095e+00\n",
       "facility_typeIndustrial                                 8.872e+01  3.636e+00\n",
       "facility_typeLaboratory                                 2.915e+02  5.264e+00\n",
       "facility_typeLodging_Dormitory_or_fraternity_sorority   3.957e+01  3.271e+00\n",
       "facility_typeLodging_Hotel                              5.515e+01  2.902e+00\n",
       "facility_typeLodging_Other                              7.897e+01  6.052e+00\n",
       "facility_typeLodging_Uncategorized                      2.649e+01  2.107e+01\n",
       "facility_typeMixed_Use_Commercial_and_Residential       4.190e+01  2.182e+00\n",
       "facility_typeMixed_Use_Predominantly_Commercial         5.210e+01  3.314e+00\n",
       "facility_typeMixed_Use_Predominantly_Residential        2.434e+01  1.564e+01\n",
       "facility_typeMultifamily_Uncategorized                  2.369e+01  1.467e+00\n",
       "facility_typeNursing_Home                               7.264e+01  3.188e+00\n",
       "facility_typeOffice_Bank_or_other_financial             5.664e+01  4.495e+00\n",
       "facility_typeOffice_Medical_non_diagnostic              7.152e+01  3.475e+00\n",
       "facility_typeOffice_Mixed_use                           5.002e+01  1.136e+01\n",
       "facility_typeOffice_Uncategorized                       4.659e+01  2.753e+00\n",
       "facility_typeParking_Garage                             2.771e+01  4.027e+00\n",
       "facility_typePublic_Assembly_Drama_theater              4.719e+01  6.217e+00\n",
       "facility_typePublic_Assembly_Entertainment_culture      8.099e+01  5.228e+00\n",
       "facility_typePublic_Assembly_Library                    6.388e+01  4.601e+00\n",
       "facility_typePublic_Assembly_Movie_Theater              7.542e+01  7.967e+00\n",
       "facility_typePublic_Assembly_Other                      8.154e+01  4.782e+00\n",
       "facility_typePublic_Assembly_Recreation                 8.205e+01  6.154e+00\n",
       "facility_typePublic_Assembly_Social_meeting             4.929e+01  5.683e+00\n",
       "facility_typePublic_Assembly_Stadium                    1.157e+02  1.583e+01\n",
       "facility_typePublic_Assembly_Uncategorized              3.579e+01  9.741e+00\n",
       "facility_typePublic_Safety_Courthouse                   6.030e+01  8.058e+00\n",
       "facility_typePublic_Safety_Fire_or_police_station       8.915e+01  4.637e+00\n",
       "facility_typePublic_Safety_Penitentiary                 1.300e+02  8.176e+00\n",
       "facility_typePublic_Safety_Uncategorized                5.156e+01  7.658e+00\n",
       "facility_typeReligious_worship                          1.148e+01  3.531e+00\n",
       "facility_typeRetail_Enclosed_mall                       6.847e+01  5.073e+00\n",
       "facility_typeRetail_Strip_shopping_mall                 7.578e+01  5.192e+00\n",
       "facility_typeRetail_Uncategorized                       4.538e+01  3.030e+00\n",
       "facility_typeRetail_Vehicle_dealership_showroom         2.011e+01  6.085e+00\n",
       "facility_typeService_Drycleaning_or_Laundry             3.164e+01  1.581e+01\n",
       "facility_typeService_Uncategorized                      7.806e+01  6.313e+00\n",
       "facility_typeService_Vehicle_service_repair_shop        9.538e+01  4.832e+00\n",
       "facility_typeWarehouse_Distribution_or_Shipping_center -3.148e+00  3.294e+00\n",
       "facility_typeWarehouse_Nonrefrigerated                 -3.108e-01  3.043e+00\n",
       "facility_typeWarehouse_Refrigerated                     4.840e+01  5.156e+00\n",
       "facility_typeWarehouse_Selfstorage                     -1.788e+01  3.328e+00\n",
       "facility_typeWarehouse_Uncategorized                           NA         NA\n",
       "floor_area                                              3.768e-06  7.452e-07\n",
       "year_built                                             -1.643e-03  4.864e-03\n",
       "energy_star_rating                                     -8.929e-01  7.666e-03\n",
       "ELEVATION                                              -2.361e-02  4.693e-03\n",
       "january_min_temp                                       -2.108e-02  5.945e-01\n",
       "january_avg_temp                                        7.010e+00  2.895e+00\n",
       "january_max_temp                                       -9.174e-01  5.775e-01\n",
       "february_min_temp                                      -1.483e-01  4.864e-01\n",
       "february_avg_temp                                       2.753e+00  2.267e+00\n",
       "february_max_temp                                      -6.705e-01  7.560e-01\n",
       "march_min_temp                                         -1.328e+00  6.165e-01\n",
       "march_avg_temp                                          1.338e+00  2.291e+00\n",
       "march_max_temp                                          7.095e-01  5.560e-01\n",
       "april_min_temp                                          3.965e-01  7.092e-01\n",
       "april_avg_temp                                          6.204e+00  2.267e+00\n",
       "april_max_temp                                         -1.495e+00  7.553e-01\n",
       "may_min_temp                                            3.087e-01  6.343e-01\n",
       "may_avg_temp                                           -5.120e-01  2.469e+00\n",
       "may_max_temp                                            2.891e-01  7.060e-01\n",
       "june_min_temp                                          -1.593e+00  9.486e-01\n",
       "june_avg_temp                                           6.690e+00  4.098e+00\n",
       "june_max_temp                                          -8.123e-02  7.212e-01\n",
       "july_min_temp                                           4.722e-01  1.109e+00\n",
       "july_avg_temp                                          -1.355e+00  2.192e+00\n",
       "july_max_temp                                           1.198e+00  6.532e-01\n",
       "august_min_temp                                         8.572e-01  7.779e-01\n",
       "august_avg_temp                                         9.499e+00  2.380e+00\n",
       "august_max_temp                                        -6.073e-01  6.268e-01\n",
       "september_min_temp                                     -7.430e-01  7.353e-01\n",
       "september_avg_temp                                     -7.051e-01  2.613e+00\n",
       "september_max_temp                                     -4.800e-01  4.885e-01\n",
       "october_min_temp                                       -2.156e-01  5.968e-01\n",
       "october_avg_temp                                        6.441e+00  2.694e+00\n",
       "october_max_temp                                       -1.004e+00  5.536e-01\n",
       "november_min_temp                                       1.052e+00  6.595e-01\n",
       "november_avg_temp                                       2.614e+00  3.105e+00\n",
       "november_max_temp                                       2.735e-01  6.517e-01\n",
       "december_min_temp                                      -8.952e-01  6.771e-01\n",
       "december_avg_temp                                       3.090e+00  2.750e+00\n",
       "december_max_temp                                       1.041e+00  6.072e-01\n",
       "cooling_degree_days                                     5.957e-02  5.822e-02\n",
       "heating_degree_days                                    -5.813e-02  5.847e-02\n",
       "precipitation_inches                                    7.353e-01  2.072e-01\n",
       "snowfall_inches                                        -5.427e-01  2.448e-01\n",
       "snowdepth_inches                                        2.527e-02  1.812e-02\n",
       "avg_temp                                               -5.931e+01  3.227e+01\n",
       "days_below_30F                                          7.496e-02  1.418e-01\n",
       "days_below_20F                                          3.010e-01  3.779e-01\n",
       "days_below_10F                                         -6.496e-01  6.128e-01\n",
       "days_below_0F                                           4.701e-01  6.440e-01\n",
       "days_above_80F                                          2.748e-02  1.205e-01\n",
       "days_above_90F                                          1.548e-01  1.557e-01\n",
       "days_above_100F                                        -5.817e-01  3.819e-01\n",
       "days_above_110F                                         3.334e-02  2.562e+00\n",
       "FT_multi_fam_uncat                                             NA         NA\n",
       "FT_office_uncat                                                NA         NA\n",
       "FT_2plus_units_buildings                                       NA         NA\n",
       "building_class_code                                            NA         NA\n",
       "State_Factor_catP                                              NA         NA\n",
       "State_Factor_lev_x_State_1                                     NA         NA\n",
       "State_Factor_lev_x_State_10                                    NA         NA\n",
       "State_Factor_lev_x_State_11                                    NA         NA\n",
       "State_Factor_lev_x_State_2                                     NA         NA\n",
       "State_Factor_lev_x_State_4                                     NA         NA\n",
       "State_Factor_lev_x_State_6                                     NA         NA\n",
       "State_Factor_lev_x_State_8                                     NA         NA\n",
       "                                                        t value Pr(>|t|)    \n",
       "(Intercept)                                               1.010 0.312326    \n",
       "Year_Factor                                              -0.606 0.544388    \n",
       "State_FactorState_10                                     -0.012 0.990422    \n",
       "State_FactorState_11                                     -2.169 0.030070 *  \n",
       "State_FactorState_2                                      -1.008 0.313292    \n",
       "State_FactorState_4                                       0.263 0.792453    \n",
       "State_FactorState_6                                       0.276 0.782319    \n",
       "State_FactorState_8                                       0.240 0.810657    \n",
       "building_classResidential                                 3.287 0.001012 ** \n",
       "facility_type5plus_Unit_Building                          3.310 0.000932 ***\n",
       "facility_typeCommercial_Other                            19.540  < 2e-16 ***\n",
       "facility_typeCommercial_Unknown                          15.107  < 2e-16 ***\n",
       "facility_typeData_Center                                 31.196  < 2e-16 ***\n",
       "facility_typeEducation_College_or_university             22.368  < 2e-16 ***\n",
       "facility_typeEducation_Other_classroom                   10.012  < 2e-16 ***\n",
       "facility_typeEducation_Preschool_or_daycare               3.426 0.000614 ***\n",
       "facility_typeEducation_Uncategorized                      7.285 3.26e-13 ***\n",
       "facility_typeFood_Sales                                  13.503  < 2e-16 ***\n",
       "facility_typeFood_Service_Other                           1.677 0.093560 .  \n",
       "facility_typeFood_Service_Restaurant_or_cafeteria        27.371  < 2e-16 ***\n",
       "facility_typeFood_Service_Uncategorized                   8.448  < 2e-16 ***\n",
       "facility_typeGrocery_store_or_food_market                57.085  < 2e-16 ***\n",
       "facility_typeHealth_Care_Inpatient                       55.932  < 2e-16 ***\n",
       "facility_typeHealth_Care_Outpatient_Clinic                8.919  < 2e-16 ***\n",
       "facility_typeHealth_Care_Outpatient_Uncategorized        17.650  < 2e-16 ***\n",
       "facility_typeHealth_Care_Uncategorized                   19.904  < 2e-16 ***\n",
       "facility_typeIndustrial                                  24.403  < 2e-16 ***\n",
       "facility_typeLaboratory                                  55.381  < 2e-16 ***\n",
       "facility_typeLodging_Dormitory_or_fraternity_sorority    12.098  < 2e-16 ***\n",
       "facility_typeLodging_Hotel                               19.006  < 2e-16 ***\n",
       "facility_typeLodging_Other                               13.050  < 2e-16 ***\n",
       "facility_typeLodging_Uncategorized                        1.257 0.208629    \n",
       "facility_typeMixed_Use_Commercial_and_Residential        19.204  < 2e-16 ***\n",
       "facility_typeMixed_Use_Predominantly_Commercial          15.718  < 2e-16 ***\n",
       "facility_typeMixed_Use_Predominantly_Residential          1.557 0.119543    \n",
       "facility_typeMultifamily_Uncategorized                   16.144  < 2e-16 ***\n",
       "facility_typeNursing_Home                                22.785  < 2e-16 ***\n",
       "facility_typeOffice_Bank_or_other_financial              12.602  < 2e-16 ***\n",
       "facility_typeOffice_Medical_non_diagnostic               20.582  < 2e-16 ***\n",
       "facility_typeOffice_Mixed_use                             4.404 1.07e-05 ***\n",
       "facility_typeOffice_Uncategorized                        16.922  < 2e-16 ***\n",
       "facility_typeParking_Garage                               6.880 6.02e-12 ***\n",
       "facility_typePublic_Assembly_Drama_theater                7.591 3.21e-14 ***\n",
       "facility_typePublic_Assembly_Entertainment_culture       15.491  < 2e-16 ***\n",
       "facility_typePublic_Assembly_Library                     13.883  < 2e-16 ***\n",
       "facility_typePublic_Assembly_Movie_Theater                9.467  < 2e-16 ***\n",
       "facility_typePublic_Assembly_Other                       17.050  < 2e-16 ***\n",
       "facility_typePublic_Assembly_Recreation                  13.332  < 2e-16 ***\n",
       "facility_typePublic_Assembly_Social_meeting               8.673  < 2e-16 ***\n",
       "facility_typePublic_Assembly_Stadium                      7.308 2.73e-13 ***\n",
       "facility_typePublic_Assembly_Uncategorized                3.674 0.000239 ***\n",
       "facility_typePublic_Safety_Courthouse                     7.483 7.34e-14 ***\n",
       "facility_typePublic_Safety_Fire_or_police_station        19.226  < 2e-16 ***\n",
       "facility_typePublic_Safety_Penitentiary                  15.897  < 2e-16 ***\n",
       "facility_typePublic_Safety_Uncategorized                  6.733 1.67e-11 ***\n",
       "facility_typeReligious_worship                            3.252 0.001148 ** \n",
       "facility_typeRetail_Enclosed_mall                        13.498  < 2e-16 ***\n",
       "facility_typeRetail_Strip_shopping_mall                  14.596  < 2e-16 ***\n",
       "facility_typeRetail_Uncategorized                        14.976  < 2e-16 ***\n",
       "facility_typeRetail_Vehicle_dealership_showroom           3.304 0.000952 ***\n",
       "facility_typeService_Drycleaning_or_Laundry               2.001 0.045376 *  \n",
       "facility_typeService_Uncategorized                       12.364  < 2e-16 ***\n",
       "facility_typeService_Vehicle_service_repair_shop         19.739  < 2e-16 ***\n",
       "facility_typeWarehouse_Distribution_or_Shipping_center   -0.956 0.339184    \n",
       "facility_typeWarehouse_Nonrefrigerated                   -0.102 0.918636    \n",
       "facility_typeWarehouse_Refrigerated                       9.385  < 2e-16 ***\n",
       "facility_typeWarehouse_Selfstorage                       -5.373 7.78e-08 ***\n",
       "facility_typeWarehouse_Uncategorized                         NA       NA    \n",
       "floor_area                                                5.056 4.28e-07 ***\n",
       "year_built                                               -0.338 0.735433    \n",
       "energy_star_rating                                     -116.462  < 2e-16 ***\n",
       "ELEVATION                                                -5.031 4.89e-07 ***\n",
       "january_min_temp                                         -0.035 0.971714    \n",
       "january_avg_temp                                          2.421 0.015469 *  \n",
       "january_max_temp                                         -1.589 0.112156    \n",
       "february_min_temp                                        -0.305 0.760406    \n",
       "february_avg_temp                                         1.214 0.224649    \n",
       "february_max_temp                                        -0.887 0.375143    \n",
       "march_min_temp                                           -2.155 0.031174 *  \n",
       "march_avg_temp                                            0.584 0.559171    \n",
       "march_max_temp                                            1.276 0.201906    \n",
       "april_min_temp                                            0.559 0.576119    \n",
       "april_avg_temp                                            2.736 0.006216 ** \n",
       "april_max_temp                                           -1.979 0.047850 *  \n",
       "may_min_temp                                              0.487 0.626421    \n",
       "may_avg_temp                                             -0.207 0.835700    \n",
       "may_max_temp                                              0.409 0.682181    \n",
       "june_min_temp                                            -1.679 0.093079 .  \n",
       "june_avg_temp                                             1.632 0.102607    \n",
       "june_max_temp                                            -0.113 0.910327    \n",
       "july_min_temp                                             0.426 0.670259    \n",
       "july_avg_temp                                            -0.618 0.536404    \n",
       "july_max_temp                                             1.833 0.066764 .  \n",
       "august_min_temp                                           1.102 0.270499    \n",
       "august_avg_temp                                           3.992 6.57e-05 ***\n",
       "august_max_temp                                          -0.969 0.332616    \n",
       "september_min_temp                                       -1.010 0.312268    \n",
       "september_avg_temp                                       -0.270 0.787306    \n",
       "september_max_temp                                       -0.983 0.325838    \n",
       "october_min_temp                                         -0.361 0.717942    \n",
       "october_avg_temp                                          2.391 0.016821 *  \n",
       "october_max_temp                                         -1.814 0.069681 .  \n",
       "november_min_temp                                         1.595 0.110665    \n",
       "november_avg_temp                                         0.842 0.399850    \n",
       "november_max_temp                                         0.420 0.674729    \n",
       "december_min_temp                                        -1.322 0.186127    \n",
       "december_avg_temp                                         1.123 0.261237    \n",
       "december_max_temp                                         1.714 0.086580 .  \n",
       "cooling_degree_days                                       1.023 0.306218    \n",
       "heating_degree_days                                      -0.994 0.320134    \n",
       "precipitation_inches                                      3.550 0.000386 ***\n",
       "snowfall_inches                                          -2.217 0.026635 *  \n",
       "snowdepth_inches                                          1.395 0.163050    \n",
       "avg_temp                                                 -1.838 0.066117 .  \n",
       "days_below_30F                                            0.529 0.597018    \n",
       "days_below_20F                                            0.796 0.425848    \n",
       "days_below_10F                                           -1.060 0.289171    \n",
       "days_below_0F                                             0.730 0.465399    \n",
       "days_above_80F                                            0.228 0.819523    \n",
       "days_above_90F                                            0.994 0.320336    \n",
       "days_above_100F                                          -1.523 0.127728    \n",
       "days_above_110F                                           0.013 0.989618    \n",
       "FT_multi_fam_uncat                                           NA       NA    \n",
       "FT_office_uncat                                              NA       NA    \n",
       "FT_2plus_units_buildings                                     NA       NA    \n",
       "building_class_code                                          NA       NA    \n",
       "State_Factor_catP                                            NA       NA    \n",
       "State_Factor_lev_x_State_1                                   NA       NA    \n",
       "State_Factor_lev_x_State_10                                  NA       NA    \n",
       "State_Factor_lev_x_State_11                                  NA       NA    \n",
       "State_Factor_lev_x_State_2                                   NA       NA    \n",
       "State_Factor_lev_x_State_4                                   NA       NA    \n",
       "State_Factor_lev_x_State_6                                   NA       NA    \n",
       "State_Factor_lev_x_State_8                                   NA       NA    \n",
       "---\n",
       "Signif. codes:  0 '***' 0.001 '**' 0.01 '*' 0.05 '.' 0.1 ' ' 1\n",
       "\n",
       "Residual standard error: 46.67 on 75636 degrees of freedom\n",
       "Multiple R-squared:  0.3592,\tAdjusted R-squared:  0.3582 \n",
       "F-statistic: 353.3 on 120 and 75636 DF,  p-value: < 2.2e-16\n"
      ]
     },
     "metadata": {},
     "output_type": "display_data"
    }
   ],
   "source": [
    "full_regression <- lm(formula = site_eui~.,data=df_3)\n",
    "summary(full_regression)"
   ]
  },
  {
   "cell_type": "markdown",
   "id": "7967f564",
   "metadata": {},
   "source": [
    "There is a coefficient error observed that mentions that there exists perfect linearity between a few variables. This is because of the encoded variable."
   ]
  },
  {
   "cell_type": "markdown",
   "id": "b0153d4b",
   "metadata": {},
   "source": [
    "lm() automatically identifies the categorical variables and creates dummy encoding. Hence in the next iteration of regression model, we first remove the manually generated encoding colums and run the linear regression model. We will be using the df_1 data frame without the wind details columns and filled NA values for Energy start rating and Year built."
   ]
  },
  {
   "cell_type": "code",
   "execution_count": 30,
   "id": "3d24cf0d",
   "metadata": {},
   "outputs": [],
   "source": [
    "df_1<- df_1 %>%\n",
    "select(-id)"
   ]
  },
  {
   "cell_type": "code",
   "execution_count": 31,
   "id": "6f04a605",
   "metadata": {},
   "outputs": [
    {
     "data": {
      "text/plain": [
       "\n",
       "Call:\n",
       "lm(formula = site_eui ~ ., data = df_1)\n",
       "\n",
       "Residuals:\n",
       "    Min      1Q  Median      3Q     Max \n",
       "-316.97  -17.99   -2.67   11.31  907.32 \n",
       "\n",
       "Coefficients: (1 not defined because of singularities)\n",
       "                                                         Estimate Std. Error\n",
       "(Intercept)                                             1.398e+03  1.377e+03\n",
       "Year_Factor                                            -9.141e-01  1.924e+00\n",
       "State_FactorState_10                                   -1.373e+00  2.428e+01\n",
       "State_FactorState_11                                   -3.754e+01  1.641e+01\n",
       "State_FactorState_2                                    -2.369e+01  2.285e+01\n",
       "State_FactorState_4                                     7.629e+00  2.140e+01\n",
       "State_FactorState_6                                     6.872e+00  1.902e+01\n",
       "State_FactorState_8                                     4.680e+00  2.191e+01\n",
       "building_classResidential                               8.213e+00  2.789e+00\n",
       "facility_type5plus_Unit_Building                        5.866e+00  1.696e+00\n",
       "facility_typeCommercial_Other                           6.021e+01  2.892e+00\n",
       "facility_typeCommercial_Unknown                         9.304e+01  5.859e+00\n",
       "facility_typeData_Center                                2.957e+02  9.405e+00\n",
       "facility_typeEducation_College_or_university            7.320e+01  3.088e+00\n",
       "facility_typeEducation_Other_classroom                  2.768e+01  2.830e+00\n",
       "facility_typeEducation_Preschool_or_daycare             2.338e+01  5.280e+00\n",
       "facility_typeEducation_Uncategorized                    3.688e+01  4.349e+00\n",
       "facility_typeFood_Sales                                 8.424e+01  6.232e+00\n",
       "facility_typeFood_Service_Other                         2.554e+01  1.168e+01\n",
       "facility_typeFood_Service_Restaurant_or_cafeteria       1.811e+02  6.422e+00\n",
       "facility_typeFood_Service_Uncategorized                 1.003e+02  1.135e+01\n",
       "facility_typeGrocery_store_or_food_market               1.982e+02  3.485e+00\n",
       "facility_typeHealth_Care_Inpatient                      2.002e+02  3.589e+00\n",
       "facility_typeHealth_Care_Outpatient_Clinic              6.520e+01  6.820e+00\n",
       "facility_typeHealth_Care_Outpatient_Uncategorized       1.491e+02  8.256e+00\n",
       "facility_typeHealth_Care_Uncategorized                  1.461e+02  7.101e+00\n",
       "facility_typeIndustrial                                 9.234e+01  3.639e+00\n",
       "facility_typeLaboratory                                 2.960e+02  5.268e+00\n",
       "facility_typeLodging_Dormitory_or_fraternity_sorority   3.909e+01  3.273e+00\n",
       "facility_typeLodging_Hotel                              5.411e+01  2.904e+00\n",
       "facility_typeLodging_Other                              8.420e+01  6.057e+00\n",
       "facility_typeLodging_Uncategorized                      3.050e+01  2.108e+01\n",
       "facility_typeMixed_Use_Commercial_and_Residential       4.392e+01  2.183e+00\n",
       "facility_typeMixed_Use_Predominantly_Commercial         5.344e+01  3.317e+00\n",
       "facility_typeMixed_Use_Predominantly_Residential        2.461e+01  1.565e+01\n",
       "facility_typeMultifamily_Uncategorized                  2.443e+01  1.468e+00\n",
       "facility_typeNursing_Home                               7.193e+01  3.190e+00\n",
       "facility_typeOffice_Bank_or_other_financial             5.580e+01  4.498e+00\n",
       "facility_typeOffice_Medical_non_diagnostic              7.109e+01  3.478e+00\n",
       "facility_typeOffice_Mixed_use                           5.254e+01  1.137e+01\n",
       "facility_typeOffice_Uncategorized                       4.572e+01  2.755e+00\n",
       "facility_typeParking_Garage                             3.185e+01  4.032e+00\n",
       "facility_typePublic_Assembly_Drama_theater              5.246e+01  6.222e+00\n",
       "facility_typePublic_Assembly_Entertainment_culture      8.543e+01  5.233e+00\n",
       "facility_typePublic_Assembly_Library                    6.884e+01  4.606e+00\n",
       "facility_typePublic_Assembly_Movie_Theater              8.056e+01  7.974e+00\n",
       "facility_typePublic_Assembly_Other                      8.603e+01  4.787e+00\n",
       "facility_typePublic_Assembly_Recreation                 8.729e+01  6.160e+00\n",
       "facility_typePublic_Assembly_Social_meeting             5.447e+01  5.688e+00\n",
       "facility_typePublic_Assembly_Stadium                    1.186e+02  1.584e+01\n",
       "facility_typePublic_Assembly_Uncategorized              4.099e+01  9.749e+00\n",
       "facility_typePublic_Safety_Courthouse                   6.029e+01  8.064e+00\n",
       "facility_typePublic_Safety_Fire_or_police_station       9.453e+01  4.642e+00\n",
       "facility_typePublic_Safety_Penitentiary                 1.335e+02  8.183e+00\n",
       "facility_typePublic_Safety_Uncategorized                5.764e+01  7.664e+00\n",
       "facility_typeReligious_worship                          1.114e+01  3.534e+00\n",
       "facility_typeRetail_Enclosed_mall                       7.246e+01  5.077e+00\n",
       "facility_typeRetail_Strip_shopping_mall                 8.006e+01  5.196e+00\n",
       "facility_typeRetail_Uncategorized                       4.554e+01  3.032e+00\n",
       "facility_typeRetail_Vehicle_dealership_showroom         2.538e+01  6.091e+00\n",
       "facility_typeService_Drycleaning_or_Laundry             3.765e+01  1.582e+01\n",
       "facility_typeService_Uncategorized                      8.132e+01  6.318e+00\n",
       "facility_typeService_Vehicle_service_repair_shop        1.002e+02  4.837e+00\n",
       "facility_typeWarehouse_Distribution_or_Shipping_center -3.467e+00  3.296e+00\n",
       "facility_typeWarehouse_Nonrefrigerated                 -4.518e-01  3.045e+00\n",
       "facility_typeWarehouse_Refrigerated                     4.825e+01  5.160e+00\n",
       "facility_typeWarehouse_Selfstorage                     -1.399e+01  3.332e+00\n",
       "facility_typeWarehouse_Uncategorized                           NA         NA\n",
       "floor_area                                              3.617e-06  7.458e-07\n",
       "year_built                                             -2.289e-03  4.868e-03\n",
       "energy_star_rating                                     -8.860e-01  7.645e-03\n",
       "ELEVATION                                              -2.272e-02  4.697e-03\n",
       "january_min_temp                                        1.864e-02  5.950e-01\n",
       "january_avg_temp                                        7.046e+00  2.897e+00\n",
       "january_max_temp                                       -9.325e-01  5.779e-01\n",
       "february_min_temp                                      -3.900e-02  4.868e-01\n",
       "february_avg_temp                                       2.814e+00  2.269e+00\n",
       "february_max_temp                                      -6.642e-01  7.565e-01\n",
       "march_min_temp                                         -1.282e+00  6.169e-01\n",
       "march_avg_temp                                          1.272e+00  2.292e+00\n",
       "march_max_temp                                          7.599e-01  5.564e-01\n",
       "april_min_temp                                          4.019e-01  7.097e-01\n",
       "april_avg_temp                                          6.319e+00  2.269e+00\n",
       "april_max_temp                                         -1.408e+00  7.559e-01\n",
       "may_min_temp                                            3.740e-01  6.347e-01\n",
       "may_avg_temp                                           -5.517e-01  2.470e+00\n",
       "may_max_temp                                            2.344e-01  7.066e-01\n",
       "june_min_temp                                          -1.585e+00  9.493e-01\n",
       "june_avg_temp                                           6.913e+00  4.101e+00\n",
       "june_max_temp                                          -1.727e-01  7.217e-01\n",
       "july_min_temp                                           3.391e-01  1.110e+00\n",
       "july_avg_temp                                          -1.235e+00  2.194e+00\n",
       "july_max_temp                                           1.260e+00  6.537e-01\n",
       "august_min_temp                                         7.695e-01  7.785e-01\n",
       "august_avg_temp                                         9.634e+00  2.381e+00\n",
       "august_max_temp                                        -5.268e-01  6.273e-01\n",
       "september_min_temp                                     -7.926e-01  7.359e-01\n",
       "september_avg_temp                                     -7.000e-01  2.615e+00\n",
       "september_max_temp                                     -4.639e-01  4.889e-01\n",
       "october_min_temp                                       -1.790e-01  5.973e-01\n",
       "october_avg_temp                                        6.497e+00  2.696e+00\n",
       "october_max_temp                                       -1.033e+00  5.540e-01\n",
       "november_min_temp                                       1.069e+00  6.600e-01\n",
       "november_avg_temp                                       2.515e+00  3.107e+00\n",
       "november_max_temp                                       3.770e-01  6.521e-01\n",
       "december_min_temp                                      -1.002e+00  6.776e-01\n",
       "december_avg_temp                                       3.518e+00  2.752e+00\n",
       "december_max_temp                                       1.033e+00  6.077e-01\n",
       "cooling_degree_days                                     6.174e-02  5.827e-02\n",
       "heating_degree_days                                    -5.753e-02  5.851e-02\n",
       "precipitation_inches                                    7.132e-01  2.073e-01\n",
       "snowfall_inches                                        -5.398e-01  2.450e-01\n",
       "snowdepth_inches                                        2.368e-02  1.813e-02\n",
       "avg_temp                                               -6.057e+01  3.230e+01\n",
       "days_below_30F                                          5.868e-02  1.419e-01\n",
       "days_below_20F                                          2.705e-01  3.782e-01\n",
       "days_below_10F                                         -6.481e-01  6.133e-01\n",
       "days_below_0F                                           4.018e-01  6.445e-01\n",
       "days_above_80F                                          1.151e-02  1.205e-01\n",
       "days_above_90F                                          1.575e-01  1.559e-01\n",
       "days_above_100F                                        -6.086e-01  3.822e-01\n",
       "days_above_110F                                         1.376e-01  2.564e+00\n",
       "                                                        t value Pr(>|t|)    \n",
       "(Intercept)                                               1.015 0.310067    \n",
       "Year_Factor                                              -0.475 0.634786    \n",
       "State_FactorState_10                                     -0.057 0.954919    \n",
       "State_FactorState_11                                     -2.288 0.022162 *  \n",
       "State_FactorState_2                                      -1.037 0.299711    \n",
       "State_FactorState_4                                       0.357 0.721407    \n",
       "State_FactorState_6                                       0.361 0.717806    \n",
       "State_FactorState_8                                       0.214 0.830897    \n",
       "building_classResidential                                 2.945 0.003233 ** \n",
       "facility_type5plus_Unit_Building                          3.459 0.000543 ***\n",
       "facility_typeCommercial_Other                            20.819  < 2e-16 ***\n",
       "facility_typeCommercial_Unknown                          15.881  < 2e-16 ***\n",
       "facility_typeData_Center                                 31.440  < 2e-16 ***\n",
       "facility_typeEducation_College_or_university             23.702  < 2e-16 ***\n",
       "facility_typeEducation_Other_classroom                    9.781  < 2e-16 ***\n",
       "facility_typeEducation_Preschool_or_daycare               4.428 9.52e-06 ***\n",
       "facility_typeEducation_Uncategorized                      8.479  < 2e-16 ***\n",
       "facility_typeFood_Sales                                  13.517  < 2e-16 ***\n",
       "facility_typeFood_Service_Other                           2.187 0.028718 *  \n",
       "facility_typeFood_Service_Restaurant_or_cafeteria        28.197  < 2e-16 ***\n",
       "facility_typeFood_Service_Uncategorized                   8.838  < 2e-16 ***\n",
       "facility_typeGrocery_store_or_food_market                56.875  < 2e-16 ***\n",
       "facility_typeHealth_Care_Inpatient                       55.785  < 2e-16 ***\n",
       "facility_typeHealth_Care_Outpatient_Clinic                9.559  < 2e-16 ***\n",
       "facility_typeHealth_Care_Outpatient_Uncategorized        18.058  < 2e-16 ***\n",
       "facility_typeHealth_Care_Uncategorized                   20.578  < 2e-16 ***\n",
       "facility_typeIndustrial                                  25.374  < 2e-16 ***\n",
       "facility_typeLaboratory                                  56.192  < 2e-16 ***\n",
       "facility_typeLodging_Dormitory_or_fraternity_sorority    11.942  < 2e-16 ***\n",
       "facility_typeLodging_Hotel                               18.634  < 2e-16 ***\n",
       "facility_typeLodging_Other                               13.901  < 2e-16 ***\n",
       "facility_typeLodging_Uncategorized                        1.447 0.147928    \n",
       "facility_typeMixed_Use_Commercial_and_Residential        20.115  < 2e-16 ***\n",
       "facility_typeMixed_Use_Predominantly_Commercial          16.111  < 2e-16 ***\n",
       "facility_typeMixed_Use_Predominantly_Residential          1.572 0.115896    \n",
       "facility_typeMultifamily_Uncategorized                   16.639  < 2e-16 ***\n",
       "facility_typeNursing_Home                                22.547  < 2e-16 ***\n",
       "facility_typeOffice_Bank_or_other_financial              12.406  < 2e-16 ***\n",
       "facility_typeOffice_Medical_non_diagnostic               20.444  < 2e-16 ***\n",
       "facility_typeOffice_Mixed_use                             4.622 3.81e-06 ***\n",
       "facility_typeOffice_Uncategorized                        16.596  < 2e-16 ***\n",
       "facility_typeParking_Garage                               7.900 2.82e-15 ***\n",
       "facility_typePublic_Assembly_Drama_theater                8.430  < 2e-16 ***\n",
       "facility_typePublic_Assembly_Entertainment_culture       16.327  < 2e-16 ***\n",
       "facility_typePublic_Assembly_Library                     14.947  < 2e-16 ***\n",
       "facility_typePublic_Assembly_Movie_Theater               10.103  < 2e-16 ***\n",
       "facility_typePublic_Assembly_Other                       17.971  < 2e-16 ***\n",
       "facility_typePublic_Assembly_Recreation                  14.172  < 2e-16 ***\n",
       "facility_typePublic_Assembly_Social_meeting               9.577  < 2e-16 ***\n",
       "facility_typePublic_Assembly_Stadium                      7.486 7.19e-14 ***\n",
       "facility_typePublic_Assembly_Uncategorized                4.205 2.62e-05 ***\n",
       "facility_typePublic_Safety_Courthouse                     7.477 7.71e-14 ***\n",
       "facility_typePublic_Safety_Fire_or_police_station        20.365  < 2e-16 ***\n",
       "facility_typePublic_Safety_Penitentiary                  16.312  < 2e-16 ***\n",
       "facility_typePublic_Safety_Uncategorized                  7.520 5.54e-14 ***\n",
       "facility_typeReligious_worship                            3.153 0.001615 ** \n",
       "facility_typeRetail_Enclosed_mall                        14.271  < 2e-16 ***\n",
       "facility_typeRetail_Strip_shopping_mall                  15.408  < 2e-16 ***\n",
       "facility_typeRetail_Uncategorized                        15.018  < 2e-16 ***\n",
       "facility_typeRetail_Vehicle_dealership_showroom           4.167 3.09e-05 ***\n",
       "facility_typeService_Drycleaning_or_Laundry               2.379 0.017353 *  \n",
       "facility_typeService_Uncategorized                       12.870  < 2e-16 ***\n",
       "facility_typeService_Vehicle_service_repair_shop         20.717  < 2e-16 ***\n",
       "facility_typeWarehouse_Distribution_or_Shipping_center   -1.052 0.292883    \n",
       "facility_typeWarehouse_Nonrefrigerated                   -0.148 0.882060    \n",
       "facility_typeWarehouse_Refrigerated                       9.350  < 2e-16 ***\n",
       "facility_typeWarehouse_Selfstorage                       -4.199 2.69e-05 ***\n",
       "facility_typeWarehouse_Uncategorized                         NA       NA    \n",
       "floor_area                                                4.850 1.24e-06 ***\n",
       "year_built                                               -0.470 0.638168    \n",
       "energy_star_rating                                     -115.888  < 2e-16 ***\n",
       "ELEVATION                                                -4.837 1.32e-06 ***\n",
       "january_min_temp                                          0.031 0.975005    \n",
       "january_avg_temp                                          2.432 0.015033 *  \n",
       "january_max_temp                                         -1.614 0.106631    \n",
       "february_min_temp                                        -0.080 0.936155    \n",
       "february_avg_temp                                         1.240 0.214839    \n",
       "february_max_temp                                        -0.878 0.379954    \n",
       "march_min_temp                                           -2.078 0.037750 *  \n",
       "march_avg_temp                                            0.555 0.579047    \n",
       "march_max_temp                                            1.366 0.172025    \n",
       "april_min_temp                                            0.566 0.571167    \n",
       "april_avg_temp                                            2.785 0.005358 ** \n",
       "april_max_temp                                           -1.863 0.062532 .  \n",
       "may_min_temp                                              0.589 0.555738    \n",
       "may_avg_temp                                             -0.223 0.823289    \n",
       "may_max_temp                                              0.332 0.740057    \n",
       "june_min_temp                                            -1.670 0.094891 .  \n",
       "june_avg_temp                                             1.686 0.091869 .  \n",
       "june_max_temp                                            -0.239 0.810865    \n",
       "july_min_temp                                             0.306 0.759934    \n",
       "july_avg_temp                                            -0.563 0.573557    \n",
       "july_max_temp                                             1.927 0.053981 .  \n",
       "august_min_temp                                           0.989 0.322892    \n",
       "august_avg_temp                                           4.046 5.22e-05 ***\n",
       "august_max_temp                                          -0.840 0.400998    \n",
       "september_min_temp                                       -1.077 0.281475    \n",
       "september_avg_temp                                       -0.268 0.788979    \n",
       "september_max_temp                                       -0.949 0.342703    \n",
       "october_min_temp                                         -0.300 0.764459    \n",
       "october_avg_temp                                          2.409 0.015984 *  \n",
       "october_max_temp                                         -1.865 0.062241 .  \n",
       "november_min_temp                                         1.620 0.105168    \n",
       "november_avg_temp                                         0.809 0.418343    \n",
       "november_max_temp                                         0.578 0.563194    \n",
       "december_min_temp                                        -1.479 0.139207    \n",
       "december_avg_temp                                         1.278 0.201115    \n",
       "december_max_temp                                         1.700 0.089090 .  \n",
       "cooling_degree_days                                       1.060 0.289302    \n",
       "heating_degree_days                                      -0.983 0.325459    \n",
       "precipitation_inches                                      3.440 0.000582 ***\n",
       "snowfall_inches                                          -2.203 0.027571 *  \n",
       "snowdepth_inches                                          1.306 0.191567    \n",
       "avg_temp                                                 -1.876 0.060722 .  \n",
       "days_below_30F                                            0.414 0.679195    \n",
       "days_below_20F                                            0.715 0.474476    \n",
       "days_below_10F                                           -1.057 0.290604    \n",
       "days_below_0F                                             0.623 0.532997    \n",
       "days_above_80F                                            0.095 0.923932    \n",
       "days_above_90F                                            1.010 0.312269    \n",
       "days_above_100F                                          -1.593 0.111257    \n",
       "days_above_110F                                           0.054 0.957200    \n",
       "---\n",
       "Signif. codes:  0 '***' 0.001 '**' 0.01 '*' 0.05 '.' 0.1 ' ' 1\n",
       "\n",
       "Residual standard error: 46.71 on 75636 degrees of freedom\n",
       "Multiple R-squared:  0.3582,\tAdjusted R-squared:  0.3572 \n",
       "F-statistic: 351.8 on 120 and 75636 DF,  p-value: < 2.2e-16\n"
      ]
     },
     "metadata": {},
     "output_type": "display_data"
    }
   ],
   "source": [
    "full_regression_2 <- lm(data=df_1,formula=site_eui~.)\n",
    "summary(full_regression_2)"
   ]
  },
  {
   "cell_type": "markdown",
   "id": "f83c5727",
   "metadata": {},
   "source": [
    "This linear regression model has a R-square value of 0.3582 compared to the previous one which is 0.3592. It is observed that the following attributes have significance in the model, i.e, they are good predictors of site_eui-\n",
    "1. most of the facility types\n",
    "2. building_class Residential\n",
    "3. april_avg_temp\n",
    "4. floor_area\n",
    "5. energy_star_rating\n",
    "6. elevation\n",
    "7. august_avg_temp\n",
    "8. precipitation_inches\n",
    "\n",
    "Considering only the above mentioned variables, we created another linear model to see if our model improves."
   ]
  },
  {
   "cell_type": "code",
   "execution_count": 32,
   "id": "321b2a74",
   "metadata": {},
   "outputs": [
    {
     "data": {
      "text/plain": [
       "\n",
       "Call:\n",
       "lm(formula = site_eui ~ facility_type + floor_area + energy_star_rating + \n",
       "    ELEVATION + august_avg_temp + precipitation_inches + building_class + \n",
       "    april_avg_temp, data = df_1)\n",
       "\n",
       "Residuals:\n",
       "    Min      1Q  Median      3Q     Max \n",
       "-312.87  -18.12   -2.84   11.36  911.94 \n",
       "\n",
       "Coefficients: (1 not defined because of singularities)\n",
       "                                                         Estimate Std. Error\n",
       "(Intercept)                                             6.936e+01  7.192e+00\n",
       "facility_type5plus_Unit_Building                        5.760e+00  1.701e+00\n",
       "facility_typeCommercial_Other                           5.695e+01  1.581e+00\n",
       "facility_typeCommercial_Unknown                         7.497e+01  4.956e+00\n",
       "facility_typeData_Center                                2.938e+02  9.108e+00\n",
       "facility_typeEducation_College_or_university            6.882e+01  1.839e+00\n",
       "facility_typeEducation_Other_classroom                  2.343e+01  1.376e+00\n",
       "facility_typeEducation_Preschool_or_daycare             2.091e+01  4.675e+00\n",
       "facility_typeEducation_Uncategorized                    3.582e+01  2.276e+00\n",
       "facility_typeFood_Sales                                 8.019e+01  5.723e+00\n",
       "facility_typeFood_Service_Other                         2.189e+01  1.145e+01\n",
       "facility_typeFood_Service_Restaurant_or_cafeteria       1.760e+02  5.971e+00\n",
       "facility_typeFood_Service_Uncategorized                 9.380e+01  1.112e+01\n",
       "facility_typeGrocery_store_or_food_market               1.939e+02  2.482e+00\n",
       "facility_typeHealth_Care_Inpatient                      1.972e+02  2.610e+00\n",
       "facility_typeHealth_Care_Outpatient_Clinic              6.282e+01  6.379e+00\n",
       "facility_typeHealth_Care_Outpatient_Uncategorized       1.466e+02  7.905e+00\n",
       "facility_typeHealth_Care_Uncategorized                  1.457e+02  6.682e+00\n",
       "facility_typeIndustrial                                 8.853e+01  2.648e+00\n",
       "facility_typeLaboratory                                 2.911e+02  4.679e+00\n",
       "facility_typeLodging_Dormitory_or_fraternity_sorority   3.587e+01  2.149e+00\n",
       "facility_typeLodging_Hotel                              5.083e+01  1.536e+00\n",
       "facility_typeLodging_Other                              8.083e+01  5.548e+00\n",
       "facility_typeLodging_Uncategorized                      2.260e+01  2.102e+01\n",
       "facility_typeMixed_Use_Commercial_and_Residential       4.759e+01  2.123e+00\n",
       "facility_typeMixed_Use_Predominantly_Commercial         5.829e+01  3.176e+00\n",
       "facility_typeMixed_Use_Predominantly_Residential        2.042e+01  1.568e+01\n",
       "facility_typeMultifamily_Uncategorized                  3.284e+01  1.196e+00\n",
       "facility_typeNursing_Home                               7.035e+01  2.046e+00\n",
       "facility_typeOffice_Bank_or_other_financial             5.383e+01  3.758e+00\n",
       "facility_typeOffice_Medical_non_diagnostic              6.689e+01  2.486e+00\n",
       "facility_typeOffice_Mixed_use                           4.001e+01  1.112e+01\n",
       "facility_typeOffice_Uncategorized                       4.268e+01  1.213e+00\n",
       "facility_typeParking_Garage                             2.820e+01  3.174e+00\n",
       "facility_typePublic_Assembly_Drama_theater              4.872e+01  5.722e+00\n",
       "facility_typePublic_Assembly_Entertainment_culture      8.151e+01  4.615e+00\n",
       "facility_typePublic_Assembly_Library                    6.480e+01  3.894e+00\n",
       "facility_typePublic_Assembly_Movie_Theater              7.731e+01  7.598e+00\n",
       "facility_typePublic_Assembly_Other                      8.445e+01  4.109e+00\n",
       "facility_typePublic_Assembly_Recreation                 8.028e+01  5.646e+00\n",
       "facility_typePublic_Assembly_Social_meeting             5.124e+01  5.128e+00\n",
       "facility_typePublic_Assembly_Stadium                    1.092e+02  1.569e+01\n",
       "facility_typePublic_Assembly_Uncategorized              3.747e+01  9.453e+00\n",
       "facility_typePublic_Safety_Courthouse                   5.611e+01  7.705e+00\n",
       "facility_typePublic_Safety_Fire_or_police_station       9.100e+01  3.934e+00\n",
       "facility_typePublic_Safety_Penitentiary                 1.246e+02  7.806e+00\n",
       "facility_typePublic_Safety_Uncategorized                4.531e+01  7.249e+00\n",
       "facility_typeReligious_worship                          5.532e+00  2.594e+00\n",
       "facility_typeRetail_Enclosed_mall                       6.874e+01  4.430e+00\n",
       "facility_typeRetail_Strip_shopping_mall                 7.780e+01  4.558e+00\n",
       "facility_typeRetail_Uncategorized                       4.255e+01  1.786e+00\n",
       "facility_typeRetail_Vehicle_dealership_showroom         2.323e+01  5.570e+00\n",
       "facility_typeService_Drycleaning_or_Laundry             3.414e+01  1.569e+01\n",
       "facility_typeService_Uncategorized                      7.328e+01  5.798e+00\n",
       "facility_typeService_Vehicle_service_repair_shop        9.743e+01  4.164e+00\n",
       "facility_typeWarehouse_Distribution_or_Shipping_center -7.203e+00  2.213e+00\n",
       "facility_typeWarehouse_Nonrefrigerated                 -3.327e+00  1.746e+00\n",
       "facility_typeWarehouse_Refrigerated                     4.320e+01  4.554e+00\n",
       "facility_typeWarehouse_Selfstorage                     -1.686e+01  2.258e+00\n",
       "facility_typeWarehouse_Uncategorized                   -8.048e+00  2.801e+00\n",
       "floor_area                                              4.147e-06  7.337e-07\n",
       "energy_star_rating                                     -8.803e-01  7.637e-03\n",
       "ELEVATION                                              -2.108e-02  3.242e-03\n",
       "august_avg_temp                                         7.416e-01  5.451e-02\n",
       "precipitation_inches                                    3.440e-01  2.047e-02\n",
       "building_classResidential                                      NA         NA\n",
       "april_avg_temp                                         -7.394e-01  9.525e-02\n",
       "                                                        t value Pr(>|t|)    \n",
       "(Intercept)                                               9.645  < 2e-16 ***\n",
       "facility_type5plus_Unit_Building                          3.386 0.000711 ***\n",
       "facility_typeCommercial_Other                            36.033  < 2e-16 ***\n",
       "facility_typeCommercial_Unknown                          15.127  < 2e-16 ***\n",
       "facility_typeData_Center                                 32.254  < 2e-16 ***\n",
       "facility_typeEducation_College_or_university             37.418  < 2e-16 ***\n",
       "facility_typeEducation_Other_classroom                   17.029  < 2e-16 ***\n",
       "facility_typeEducation_Preschool_or_daycare               4.474 7.69e-06 ***\n",
       "facility_typeEducation_Uncategorized                     15.738  < 2e-16 ***\n",
       "facility_typeFood_Sales                                  14.011  < 2e-16 ***\n",
       "facility_typeFood_Service_Other                           1.913 0.055772 .  \n",
       "facility_typeFood_Service_Restaurant_or_cafeteria        29.478  < 2e-16 ***\n",
       "facility_typeFood_Service_Uncategorized                   8.439  < 2e-16 ***\n",
       "facility_typeGrocery_store_or_food_market                78.108  < 2e-16 ***\n",
       "facility_typeHealth_Care_Inpatient                       75.562  < 2e-16 ***\n",
       "facility_typeHealth_Care_Outpatient_Clinic                9.848  < 2e-16 ***\n",
       "facility_typeHealth_Care_Outpatient_Uncategorized        18.549  < 2e-16 ***\n",
       "facility_typeHealth_Care_Uncategorized                   21.806  < 2e-16 ***\n",
       "facility_typeIndustrial                                  33.440  < 2e-16 ***\n",
       "facility_typeLaboratory                                  62.211  < 2e-16 ***\n",
       "facility_typeLodging_Dormitory_or_fraternity_sorority    16.688  < 2e-16 ***\n",
       "facility_typeLodging_Hotel                               33.081  < 2e-16 ***\n",
       "facility_typeLodging_Other                               14.568  < 2e-16 ***\n",
       "facility_typeLodging_Uncategorized                        1.075 0.282195    \n",
       "facility_typeMixed_Use_Commercial_and_Residential        22.416  < 2e-16 ***\n",
       "facility_typeMixed_Use_Predominantly_Commercial          18.353  < 2e-16 ***\n",
       "facility_typeMixed_Use_Predominantly_Residential          1.302 0.192857    \n",
       "facility_typeMultifamily_Uncategorized                   27.471  < 2e-16 ***\n",
       "facility_typeNursing_Home                                34.386  < 2e-16 ***\n",
       "facility_typeOffice_Bank_or_other_financial              14.325  < 2e-16 ***\n",
       "facility_typeOffice_Medical_non_diagnostic               26.908  < 2e-16 ***\n",
       "facility_typeOffice_Mixed_use                             3.597 0.000322 ***\n",
       "facility_typeOffice_Uncategorized                        35.175  < 2e-16 ***\n",
       "facility_typeParking_Garage                               8.884  < 2e-16 ***\n",
       "facility_typePublic_Assembly_Drama_theater                8.515  < 2e-16 ***\n",
       "facility_typePublic_Assembly_Entertainment_culture       17.662  < 2e-16 ***\n",
       "facility_typePublic_Assembly_Library                     16.643  < 2e-16 ***\n",
       "facility_typePublic_Assembly_Movie_Theater               10.176  < 2e-16 ***\n",
       "facility_typePublic_Assembly_Other                       20.553  < 2e-16 ***\n",
       "facility_typePublic_Assembly_Recreation                  14.220  < 2e-16 ***\n",
       "facility_typePublic_Assembly_Social_meeting               9.991  < 2e-16 ***\n",
       "facility_typePublic_Assembly_Stadium                      6.959 3.46e-12 ***\n",
       "facility_typePublic_Assembly_Uncategorized                3.964 7.38e-05 ***\n",
       "facility_typePublic_Safety_Courthouse                     7.282 3.31e-13 ***\n",
       "facility_typePublic_Safety_Fire_or_police_station        23.129  < 2e-16 ***\n",
       "facility_typePublic_Safety_Penitentiary                  15.958  < 2e-16 ***\n",
       "facility_typePublic_Safety_Uncategorized                  6.250 4.11e-10 ***\n",
       "facility_typeReligious_worship                            2.132 0.032988 *  \n",
       "facility_typeRetail_Enclosed_mall                        15.519  < 2e-16 ***\n",
       "facility_typeRetail_Strip_shopping_mall                  17.070  < 2e-16 ***\n",
       "facility_typeRetail_Uncategorized                        23.830  < 2e-16 ***\n",
       "facility_typeRetail_Vehicle_dealership_showroom           4.171 3.04e-05 ***\n",
       "facility_typeService_Drycleaning_or_Laundry               2.176 0.029550 *  \n",
       "facility_typeService_Uncategorized                       12.638  < 2e-16 ***\n",
       "facility_typeService_Vehicle_service_repair_shop         23.396  < 2e-16 ***\n",
       "facility_typeWarehouse_Distribution_or_Shipping_center   -3.255 0.001136 ** \n",
       "facility_typeWarehouse_Nonrefrigerated                   -1.906 0.056629 .  \n",
       "facility_typeWarehouse_Refrigerated                       9.486  < 2e-16 ***\n",
       "facility_typeWarehouse_Selfstorage                       -7.469 8.18e-14 ***\n",
       "facility_typeWarehouse_Uncategorized                     -2.873 0.004061 ** \n",
       "floor_area                                                5.652 1.59e-08 ***\n",
       "energy_star_rating                                     -115.267  < 2e-16 ***\n",
       "ELEVATION                                                -6.503 7.94e-11 ***\n",
       "august_avg_temp                                          13.606  < 2e-16 ***\n",
       "precipitation_inches                                     16.806  < 2e-16 ***\n",
       "building_classResidential                                    NA       NA    \n",
       "april_avg_temp                                           -7.763 8.42e-15 ***\n",
       "---\n",
       "Signif. codes:  0 '***' 0.001 '**' 0.01 '*' 0.05 '.' 0.1 ' ' 1\n",
       "\n",
       "Residual standard error: 46.92 on 75691 degrees of freedom\n",
       "Multiple R-squared:  0.3519,\tAdjusted R-squared:  0.3514 \n",
       "F-statistic: 632.3 on 65 and 75691 DF,  p-value: < 2.2e-16\n"
      ]
     },
     "metadata": {},
     "output_type": "display_data"
    }
   ],
   "source": [
    "full_regression_3 <- lm(data=df_1,formula=site_eui~facility_type+floor_area+energy_star_rating\n",
    "                       +ELEVATION+august_avg_temp+precipitation_inches+building_class+april_avg_temp)\n",
    "summary(full_regression_3)"
   ]
  },
  {
   "cell_type": "markdown",
   "id": "1f643502",
   "metadata": {},
   "source": [
    "Now, it is observed that not all facility types are significant. \n",
    "\n",
    "In addition, the R-square value of the lm model has come down to 0.3519 from 0.3582. Although this is a reduction it not a very significant change.\n",
    "\n",
    "The following attributes were removed to try and improve the linear model-\n",
    "1. facility_typeFood_Service_Other\n",
    "2. facility_typeLodging_Uncategorized\n",
    "3. facility_typeMixed_Use_Predominantly_Residential\n",
    "4. facility_typeReligious_worship\n",
    "5. facility_typeService_Drycleaning_or_Laundry\n",
    "6. facility_typeWarehouse_Nonrefrigerated\n",
    "\n",
    "It is also observed that the building_class attribute is not significant. Hence we will remove it in the next iteration."
   ]
  },
  {
   "cell_type": "code",
   "execution_count": 34,
   "id": "402f2bcf",
   "metadata": {
    "scrolled": true
   },
   "outputs": [],
   "source": [
    "full_regression_4 <- lm(data=df_1,formula=site_eui~factor(facility_type, \n",
    "                                                          exclude=c('Food_Service_Other','Lodging_Uncategorized',\n",
    "                        'Mixed_Use_Predominantly_Residential',\n",
    "                        'Religious_worship',\n",
    "                        'Service_Drycleaning_or_Laundry',\n",
    "                        'Warehouse_Nonrefrigerated'))+floor_area+energy_star_rating\n",
    "                       +ELEVATION+august_avg_temp+precipitation_inches+april_avg_temp)"
   ]
  },
  {
   "cell_type": "markdown",
   "id": "b33f9ab8",
   "metadata": {},
   "source": [
    "The model now consists of all the significant variables. However, the R-square value has come down to 0.3439 from 0.3519."
   ]
  },
  {
   "cell_type": "markdown",
   "id": "abaa5dcd",
   "metadata": {},
   "source": [
    "To be able to read the above coefficient values, we used the broom function. (Unable to show the output in Markdown file due to formatting issue)"
   ]
  },
  {
   "cell_type": "markdown",
   "id": "eab75909",
   "metadata": {},
   "source": [
    "The Variance Inflation function, which indicated the multi-collinearity between variables was determined using the vif() function. "
   ]
  },
  {
   "cell_type": "code",
   "execution_count": null,
   "id": "e281451d",
   "metadata": {},
   "outputs": [],
   "source": [
    "as.data.frame(vif(full_regression_4))"
   ]
  },
  {
   "cell_type": "markdown",
   "id": "11a50d72",
   "metadata": {},
   "source": [
    "It is obseved that the vif values are well within 5. Hence, we will stop the iteration of the linear regression model and consider the above variables."
   ]
  },
  {
   "cell_type": "markdown",
   "id": "ab065e9e",
   "metadata": {},
   "source": [
    "### Residual Plot"
   ]
  },
  {
   "cell_type": "code",
   "execution_count": 37,
   "id": "b4e2cb93",
   "metadata": {},
   "outputs": [
    {
     "data": {
      "image/png": "[encoded data removed]",
      "text/plain": [
       "plot without title"
      ]
     },
     "metadata": {},
     "output_type": "display_data"
    }
   ],
   "source": [
    "res <- resid(full_regression_4)\n",
    "plot(fitted(full_regression_4), res)\n",
    "abline(0,0)"
   ]
  },
  {
   "cell_type": "markdown",
   "id": "bb4fa1db",
   "metadata": {},
   "source": [
    "Dispersion is low till 160 (approx), i.e below 160 range, predicted values are closely knit and also the overestimation and underestimation are more or less equal, but with few large residual values in the overestimation area. Above 160 range, there is higher dispersion and more of underestimation. Overall till predictive values of 250 or less, most of the residual values are in the range of -100 to +100 and looks symmetrical to origin line, which shows the prediction model to be fair. Also, equal distribution in four quadrants should not be looked for, because dependent variable is skewed towards the values less than 100 and this model is somewhat resembling the fact."
   ]
  },
  {
   "cell_type": "markdown",
   "id": "d52e6132",
   "metadata": {},
   "source": [
    "### Q-Q Plot"
   ]
  },
  {
   "cell_type": "code",
   "execution_count": 38,
   "id": "4db1c0aa",
   "metadata": {},
   "outputs": [
    {
     "data": {
      "image/png": "[encoded data removed]",
      "text/plain": [
       "Plot with title \"Normal Q-Q Plot\""
      ]
     },
     "metadata": {},
     "output_type": "display_data"
    }
   ],
   "source": [
    "qqnorm(res)\n",
    "qqline(res) "
   ]
  },
  {
   "cell_type": "markdown",
   "id": "ccf81216",
   "metadata": {},
   "source": [
    "It is a tailed QQ Plot which show that the normal distribution of data is too peaked in the middle, so the predicted values are not normal and highly skewed. Generally higher errors for higher predictive values."
   ]
  },
  {
   "cell_type": "markdown",
   "id": "4d2bad16",
   "metadata": {},
   "source": [
    "# Predicting the Site_eui values in test dataset"
   ]
  },
  {
   "cell_type": "markdown",
   "id": "6d7ce898",
   "metadata": {},
   "source": [
    "Now that we have a linear regression equation, we will be using it to predict the site_eui values in the test dataset.\n",
    "\n",
    "First, we will clean the data set to replace the NA values of energy_star_rating and Year_built. And, remove the wind and fog columns."
   ]
  },
  {
   "cell_type": "code",
   "execution_count": 39,
   "id": "13be3bd0",
   "metadata": {},
   "outputs": [],
   "source": [
    "df_test <- read.csv('test.csv',stringsAsFactors = TRUE)"
   ]
  },
  {
   "cell_type": "code",
   "execution_count": 40,
   "id": "d34a8c88",
   "metadata": {},
   "outputs": [],
   "source": [
    "df_test <- df_test %>% \n",
    "          group_by(State_Factor,building_class) %>% \n",
    "          mutate(energy_star_rating = ifelse(is.na(energy_star_rating), \n",
    "                            median(energy_star_rating, na.rm = TRUE), \n",
    "                            energy_star_rating)) %>%\n",
    "          mutate(year_built = ifelse(is.na(year_built), \n",
    "                            median(year_built, na.rm = TRUE), \n",
    "                            year_built)) %>% ungroup()"
   ]
  },
  {
   "cell_type": "code",
   "execution_count": 41,
   "id": "4c8b3998",
   "metadata": {},
   "outputs": [],
   "source": [
    "df_test<- df_test %>%\n",
    "select(c(facility_type,april_avg_temp,floor_area,energy_star_rating,\n",
    "         ELEVATION,august_avg_temp,precipitation_inches))"
   ]
  },
  {
   "cell_type": "markdown",
   "id": "d41e2ca4",
   "metadata": {},
   "source": [
    "Now to predict the value of site_eui in the test dataset using the \"full_regression_4\" lm model generated previously."
   ]
  },
  {
   "cell_type": "code",
   "execution_count": 42,
   "id": "91a2d5fd",
   "metadata": {},
   "outputs": [],
   "source": [
    "predicted_values <- predict(full_regression_4, newdata = df_test)"
   ]
  },
  {
   "cell_type": "code",
   "execution_count": 43,
   "id": "d95617c3",
   "metadata": {},
   "outputs": [
    {
     "data": {
      "text/plain": [
       "   Min. 1st Qu.  Median    Mean 3rd Qu.    Max.    NA's \n",
       " -14.35   45.09   67.23   71.44   90.47  378.11     250 "
      ]
     },
     "metadata": {},
     "output_type": "display_data"
    }
   ],
   "source": [
    "summary(predicted_values)"
   ]
  },
  {
   "cell_type": "markdown",
   "id": "2410a6d8",
   "metadata": {},
   "source": [
    "# Summary\n",
    "For the assignment, the main objective was to predict the values for Site_eui from the given dataset. A predictive model was built using linear regression. Initially, we determined the columns with the highest number of NA values and identified their correlation with site_eui. Since, their correlation was very low, we decided to drop these variables.\n",
    "\n",
    "Next, we replaced the NA values from energy_star_rating and year_built by their mean and median values respectively. We then encoded the factor variables. And finally genrated a Linear Regression model. Where we identified facility_type, floor_area, energy_star_rating, Elevation, august_avg_temp, april_avg_temp and precipitation_inches to be the significant independent variables to predict the values of site_eui. The model had a R-square value of 0.3434 and the VIF values of all the independent variables considered were below 5.\n",
    "\n",
    "The type of facility, i.e, a commercial or residential building will have varying energy consumtions, especially in commercial buildings where consumption is generally considered to be high. The larger the size of the building, more will be the energy utilisation. Energy_start_rating which determines how efficiently a building consumes energy also has an impact on the EUI. The elevation of the building above the sea level, also impacts EUI. Higher the elevation reduces the EUI. Further, temperatures towards the end of winter and summer and beginning of spring and fall respectively also changes the energy requirements of the building. Especially with the advent of cold winds and requirements to maintain heating within the building, and increase in temperatures during the summer, will affect the site_eui. Finally, precipiation also results in drop in temperatures which has an impact on the EUI of the building.\n",
    "\n",
    "Further analysis in order to improve the linear regression model would be to seperate the dataset based on commercial and residential buildings, later perform Linear regression. In addition, we can also identify the outliers in the dataset and remove them in order to improve the prediction."
   ]
  }
 ],
 "metadata": {
  "kernelspec": {
   "display_name": "R",
   "language": "R",
   "name": "ir"
  },
  "language_info": {
   "codemirror_mode": "r",
   "file_extension": ".r",
   "mimetype": "text/x-r-source",
   "name": "R",
   "pygments_lexer": "r",
   "version": "3.6.1"
  }
 },
 "nbformat": 4,
 "nbformat_minor": 5
}
